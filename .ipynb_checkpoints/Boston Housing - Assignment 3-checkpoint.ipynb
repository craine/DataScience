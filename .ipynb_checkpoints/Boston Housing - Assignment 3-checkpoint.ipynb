{
 "metadata": {
  "name": "",
  "signature": "sha256:2eb905c00ca467d6ff7a90701c692c5733618fd09205a913d8e421bad5c59586"
 },
 "nbformat": 3,
 "nbformat_minor": 0,
 "worksheets": [
  {
   "cells": [
    {
     "cell_type": "code",
     "collapsed": false,
     "input": [
      "from sklearn import datasets\n",
      "import pandas as pd\n",
      "from sklearn.preprocessing import StandardScaler\n",
      "from sklearn.cross_validation import train_test_split\n",
      "from sklearn.metrics import mean_squared_error\n",
      "from sklearn.metrics import r2_score\n",
      "from sklearn.linear_model import LinearRegression"
     ],
     "language": "python",
     "metadata": {},
     "outputs": [],
     "prompt_number": 8
    },
    {
     "cell_type": "markdown",
     "metadata": {},
     "source": [
      "##Charlie notes\n",
      "\n",
      "###RMSE: \n",
      "\u2022Lower values of RMSE indicate better fit. RMSE is a good measure of how accurately the model predicts the response, and is the most important criterion for fit if the main purpose of the model is prediction.\n",
      "\n",
      "###R squared: \n",
      "\u2022The value R2 quantifies goodness of fit.\n",
      "\n",
      "\u2022It is a fraction between 0.0 and 1.0, and has no units. Higher values indicate that the model fits the data better.\n",
      "\n",
      "\u2022When R2 equals 0.0, the best-fit curve fits the data no better than a horizontal line going through the mean of all Y values. In this case, knowing X does not help you predict Y.\n",
      "\n",
      "\u2022When R2=1.0, all points lie exactly on the curve with no scatter. If you know X you can calculate Y exactly.\n",
      "\n",
      "\u2022There is really no general rule of thumb about what values of R2 are high, adequate or low. If you repeat an experiment many times, you will know what values of R2 to expect, and can investigate further when R2 is much lower than the expected value."
     ]
    },
    {
     "cell_type": "code",
     "collapsed": false,
     "input": [
      "bean = datasets.load_boston()\n",
      "print bean.DESCR"
     ],
     "language": "python",
     "metadata": {},
     "outputs": [
      {
       "output_type": "stream",
       "stream": "stdout",
       "text": [
        "Boston House Prices dataset\n",
        "\n",
        "Notes\n",
        "------\n",
        "Data Set Characteristics:  \n",
        "\n",
        "    :Number of Instances: 506 \n",
        "\n",
        "    :Number of Attributes: 13 numeric/categorical predictive\n",
        "    \n",
        "    :Median Value (attribute 14) is usually the target\n",
        "\n",
        "    :Attribute Information (in order):\n",
        "        - CRIM     per capita crime rate by town\n",
        "        - ZN       proportion of residential land zoned for lots over 25,000 sq.ft.\n",
        "        - INDUS    proportion of non-retail business acres per town\n",
        "        - CHAS     Charles River dummy variable (= 1 if tract bounds river; 0 otherwise)\n",
        "        - NOX      nitric oxides concentration (parts per 10 million)\n",
        "        - RM       average number of rooms per dwelling\n",
        "        - AGE      proportion of owner-occupied units built prior to 1940\n",
        "        - DIS      weighted distances to five Boston employment centres\n",
        "        - RAD      index of accessibility to radial highways\n",
        "        - TAX      full-value property-tax rate per $10,000\n",
        "        - PTRATIO  pupil-teacher ratio by town\n",
        "        - B        1000(Bk - 0.63)^2 where Bk is the proportion of blacks by town\n",
        "        - LSTAT    % lower status of the population\n",
        "        - MEDV     Median value of owner-occupied homes in $1000's\n",
        "\n",
        "    :Missing Attribute Values: None\n",
        "\n",
        "    :Creator: Harrison, D. and Rubinfeld, D.L.\n",
        "\n",
        "This is a copy of UCI ML housing dataset.\n",
        "http://archive.ics.uci.edu/ml/datasets/Housing\n",
        "\n",
        "\n",
        "This dataset was taken from the StatLib library which is maintained at Carnegie Mellon University.\n",
        "\n",
        "The Boston house-price data of Harrison, D. and Rubinfeld, D.L. 'Hedonic\n",
        "prices and the demand for clean air', J. Environ. Economics & Management,\n",
        "vol.5, 81-102, 1978.   Used in Belsley, Kuh & Welsch, 'Regression diagnostics\n",
        "...', Wiley, 1980.   N.B. Various transformations are used in the table on\n",
        "pages 244-261 of the latter.\n",
        "\n",
        "The Boston house-price data has been used in many machine learning papers that address regression\n",
        "problems.   \n",
        "     \n",
        "**References**\n",
        "\n",
        "   - Belsley, Kuh & Welsch, 'Regression diagnostics: Identifying Influential Data and Sources of Collinearity', Wiley, 1980. 244-261.\n",
        "   - Quinlan,R. (1993). Combining Instance-Based and Model-Based Learning. In Proceedings on the Tenth International Conference of Machine Learning, 236-243, University of Massachusetts, Amherst. Morgan Kaufmann.\n",
        "   - many more! (see http://archive.ics.uci.edu/ml/datasets/Housing)\n",
        "\n"
       ]
      }
     ],
     "prompt_number": 9
    },
    {
     "cell_type": "code",
     "collapsed": false,
     "input": [
      "import numpy as np\n",
      "import matplotlib.pyplot as plt\n",
      "\n",
      "from sklearn import ensemble\n",
      "from sklearn import datasets\n",
      "from sklearn.utils import shuffle\n",
      "from sklearn.metrics import mean_squared_error"
     ],
     "language": "python",
     "metadata": {},
     "outputs": [],
     "prompt_number": 10
    },
    {
     "cell_type": "code",
     "collapsed": false,
     "input": [
      "def load_boston():\n",
      "    scaler = StandardScaler()\n",
      "    boston = datasets.load_boston()\n",
      "    X=boston.data\n",
      "    y=boston.target\n",
      "    X = scaler.fit_transform(X)\n",
      "    return train_test_split(X,y)"
     ],
     "language": "python",
     "metadata": {},
     "outputs": [],
     "prompt_number": 11
    },
    {
     "cell_type": "code",
     "collapsed": false,
     "input": [
      "X_train, X_test, y_train, y_test = load_boston()"
     ],
     "language": "python",
     "metadata": {},
     "outputs": [],
     "prompt_number": 12
    },
    {
     "cell_type": "code",
     "collapsed": false,
     "input": [
      "X_train.shape"
     ],
     "language": "python",
     "metadata": {},
     "outputs": [
      {
       "metadata": {},
       "output_type": "pyout",
       "prompt_number": 13,
       "text": [
        "(379, 13)"
       ]
      }
     ],
     "prompt_number": 13
    },
    {
     "cell_type": "code",
     "collapsed": false,
     "input": [
      "clf = LinearRegression()\n",
      "clf.fit(X_train, y_train)"
     ],
     "language": "python",
     "metadata": {},
     "outputs": [
      {
       "metadata": {},
       "output_type": "pyout",
       "prompt_number": 15,
       "text": [
        "LinearRegression(copy_X=True, fit_intercept=True, normalize=False)"
       ]
      }
     ],
     "prompt_number": 15
    },
    {
     "cell_type": "code",
     "collapsed": false,
     "input": [
      "zip (y_test, clf.predict(X_test))"
     ],
     "language": "python",
     "metadata": {},
     "outputs": [
      {
       "metadata": {},
       "output_type": "pyout",
       "prompt_number": 16,
       "text": [
        "[(13.5, 12.6571786440705),\n",
        " (24.5, 27.536224195138928),\n",
        " (18.600000000000001, 16.722910650254278),\n",
        " (11.800000000000001, 8.5284996850923971),\n",
        " (21.199999999999999, 21.604813403570411),\n",
        " (50.0, 40.935325875491458),\n",
        " (31.600000000000001, 32.848594380090894),\n",
        " (14.1, 15.850483729369904),\n",
        " (21.899999999999999, 38.333296359876627),\n",
        " (8.6999999999999993, 8.7338835815178619),\n",
        " (17.199999999999999, 14.690751753492048),\n",
        " (22.899999999999999, 29.034635108239957),\n",
        " (18.600000000000001, 19.795395795450727),\n",
        " (29.899999999999999, 31.483453145747653),\n",
        " (10.199999999999999, 16.055972843213198),\n",
        " (22.800000000000001, 24.704676152843764),\n",
        " (35.399999999999999, 34.201592675191037),\n",
        " (23.199999999999999, 22.745272188015747),\n",
        " (22.199999999999999, 26.014645013386875),\n",
        " (19.100000000000001, 17.095327133748349),\n",
        " (19.800000000000001, 23.081512257211305),\n",
        " (7.0, -4.8294815455086386),\n",
        " (15.199999999999999, 11.795585222981629),\n",
        " (13.1, 14.588490555322085),\n",
        " (23.100000000000001, 24.473772013633461),\n",
        " (23.0, 23.602982547378147),\n",
        " (17.600000000000001, 16.123594771788603),\n",
        " (22.899999999999999, 22.652656791029525),\n",
        " (23.199999999999999, 17.655118756693334),\n",
        " (20.100000000000001, 20.117860544292398),\n",
        " (21.899999999999999, 15.488310997033569),\n",
        " (24.699999999999999, 24.737829956023479),\n",
        " (36.200000000000003, 27.941190829111978),\n",
        " (14.0, 14.137865376113652),\n",
        " (11.9, 22.735971551536352),\n",
        " (18.5, 19.585915910907573),\n",
        " (23.100000000000001, 25.14492278669162),\n",
        " (15.6, 16.031725615750254),\n",
        " (5.5999999999999996, 12.130279404976598),\n",
        " (13.800000000000001, 11.815381848235019),\n",
        " (20.5, 23.733033830892701),\n",
        " (19.600000000000001, 19.774515939975192),\n",
        " (19.399999999999999, 16.878890633802882),\n",
        " (20.300000000000001, 19.136529135167525),\n",
        " (33.799999999999997, 34.712165499497047),\n",
        " (15.1, 17.413035024748464),\n",
        " (19.399999999999999, 20.212078289014851),\n",
        " (23.0, 20.407017657027975),\n",
        " (23.800000000000001, 25.825301859670414),\n",
        " (21.699999999999999, 23.139466744056772),\n",
        " (31.100000000000001, 32.067897987638901),\n",
        " (22.800000000000001, 26.638219328221158),\n",
        " (12.1, 18.628165736578396),\n",
        " (38.700000000000003, 36.178076461053294),\n",
        " (24.600000000000001, 25.049211653208047),\n",
        " (20.800000000000001, 18.423180706786809),\n",
        " (10.199999999999999, 17.112032823108326),\n",
        " (22.399999999999999, 24.136303111964551),\n",
        " (22.0, 27.289671161902014),\n",
        " (24.699999999999999, 23.244907658847286),\n",
        " (23.100000000000001, 20.976052573977405),\n",
        " (20.399999999999999, 19.905309327596644),\n",
        " (10.9, 13.625387863305876),\n",
        " (16.5, 11.194143080745652),\n",
        " (18.699999999999999, 20.737571166022775),\n",
        " (13.0, 17.512083031676191),\n",
        " (24.399999999999999, 23.648930923036563),\n",
        " (24.399999999999999, 24.432591492413831),\n",
        " (12.0, 11.536332952619084),\n",
        " (7.4000000000000004, 5.7886778367281089),\n",
        " (20.300000000000001, 22.406024062735202),\n",
        " (23.0, 23.994484679237615),\n",
        " (13.300000000000001, 20.730051923955038),\n",
        " (16.199999999999999, 20.515621612869118),\n",
        " (19.600000000000001, 21.243168822520989),\n",
        " (18.699999999999999, 21.769873412331851),\n",
        " (18.399999999999999, 19.096967740960512),\n",
        " (24.699999999999999, 24.761454990255476),\n",
        " (23.399999999999999, 23.941299738635681),\n",
        " (28.100000000000001, 25.476074318220018),\n",
        " (32.200000000000003, 31.555414575304244),\n",
        " (21.199999999999999, 22.462408277117365),\n",
        " (50.0, 43.333018752237699),\n",
        " (19.899999999999999, 20.375514109546778),\n",
        " (50.0, 36.998191774347781),\n",
        " (19.300000000000001, 20.707370228194851),\n",
        " (23.600000000000001, 29.022172162094115),\n",
        " (21.800000000000001, 21.190811197726894),\n",
        " (16.199999999999999, 15.499981518223233),\n",
        " (28.199999999999999, 33.058231449338813),\n",
        " (18.899999999999999, 21.154931161093277),\n",
        " (19.0, 14.147635722171561),\n",
        " (21.399999999999999, 22.61632826206209),\n",
        " (31.600000000000001, 32.524604422799385),\n",
        " (42.299999999999997, 37.063467778342911),\n",
        " (19.800000000000001, 21.440484184619226),\n",
        " (24.800000000000001, 30.412930436533919),\n",
        " (25.0, 22.889771871601539),\n",
        " (16.399999999999999, 19.335043044518038),\n",
        " (13.800000000000001, 16.338223984335627),\n",
        " (30.699999999999999, 31.139664918076441),\n",
        " (16.699999999999999, 19.809109767408909),\n",
        " (33.0, 23.518551200426614),\n",
        " (50.0, 25.033676755968397),\n",
        " (50.0, 32.823197115069505),\n",
        " (19.600000000000001, 18.028007949255318),\n",
        " (14.6, 19.387200773760789),\n",
        " (23.899999999999999, 24.985250352591873),\n",
        " (33.100000000000001, 35.051589676632602),\n",
        " (12.699999999999999, 12.532698077103468),\n",
        " (14.5, 18.352089804671788),\n",
        " (13.6, 13.795616720744787),\n",
        " (21.699999999999999, 21.186549488684651),\n",
        " (23.399999999999999, 24.255571244381127),\n",
        " (24.800000000000001, 25.209851077718998),\n",
        " (22.300000000000001, 26.13809605001947),\n",
        " (13.800000000000001, 20.511868002128331),\n",
        " (21.0, 21.496028919097384),\n",
        " (25.0, 24.688717272907176),\n",
        " (22.600000000000001, 24.21786970699366),\n",
        " (28.399999999999999, 31.121083500025474),\n",
        " (23.899999999999999, 28.187264814920944),\n",
        " (25.199999999999999, 27.494970075630331),\n",
        " (14.5, 14.178160547051908),\n",
        " (21.699999999999999, 22.458356037057698),\n",
        " (7.0, 8.1643928618789019),\n",
        " (8.5, 16.580847863408817)]"
       ]
      }
     ],
     "prompt_number": 16
    },
    {
     "cell_type": "markdown",
     "metadata": {},
     "source": [
      "###model 1 MSE and R2 below."
     ]
    },
    {
     "cell_type": "code",
     "collapsed": false,
     "input": [
      "mean_squared_error(y_test, clf.predict(X_test))"
     ],
     "language": "python",
     "metadata": {},
     "outputs": [
      {
       "metadata": {},
       "output_type": "pyout",
       "prompt_number": 17,
       "text": [
        "23.084581299955779"
       ]
      }
     ],
     "prompt_number": 17
    },
    {
     "cell_type": "code",
     "collapsed": false,
     "input": [
      "r2_score(y_test, clf.predict(X_test))"
     ],
     "language": "python",
     "metadata": {},
     "outputs": [
      {
       "metadata": {},
       "output_type": "pyout",
       "prompt_number": 18,
       "text": [
        "0.69692671372112192"
       ]
      }
     ],
     "prompt_number": 18
    },
    {
     "cell_type": "markdown",
     "metadata": {},
     "source": [
      "###model 2 MSE and R2 below.\n",
      "\n",
      "clf = LinearRegression()\n",
      "clf.fit(X_train, y_train)"
     ]
    },
    {
     "cell_type": "code",
     "collapsed": false,
     "input": [
      "from sklearn.linear_model import Lasso\n",
      "\n",
      "alpha = 0.1\n",
      "lasso = Lasso(alpha=alpha)\n",
      "\n",
      "y_pred_lasso = lasso.fit(X_train, y_train).predict(X_test)\n",
      "r2_score_lasso = r2_score(y_test, y_pred_lasso)\n",
      "mean_squared_error_lasso = mean_squared_error(y_test,y_pred_lasso)\n",
      "print(lasso)\n",
      "print (\"RMSE on test data: %f\" % mean_squared_error_lasso)\n",
      "print(\"r^2 on test data : %f\" % r2_score_lasso)"
     ],
     "language": "python",
     "metadata": {},
     "outputs": [
      {
       "output_type": "stream",
       "stream": "stdout",
       "text": [
        "Lasso(alpha=0.1, copy_X=True, fit_intercept=True, max_iter=1000,\n",
        "   normalize=False, positive=False, precompute='auto', tol=0.0001,\n",
        "   warm_start=False)\n",
        "RMSE on test data: 23.523993\n",
        "r^2 on test data : 0.691158\n"
       ]
      }
     ],
     "prompt_number": 29
    },
    {
     "cell_type": "code",
     "collapsed": false,
     "input": [
      "from sklearn.linear_model import Lasso\n",
      "clfA = linear_model.Lasso(alpha=0.1)\n",
      "clfA.fit(X_train, y_train)"
     ],
     "language": "python",
     "metadata": {},
     "outputs": [
      {
       "metadata": {},
       "output_type": "pyout",
       "prompt_number": 36,
       "text": [
        "Lasso(alpha=0.1, copy_X=True, fit_intercept=True, max_iter=1000,\n",
        "   normalize=False, positive=False, precompute='auto', tol=0.0001,\n",
        "   warm_start=False)"
       ]
      }
     ],
     "prompt_number": 36
    },
    {
     "cell_type": "code",
     "collapsed": false,
     "input": [
      "from sklearn.linear_model import Lasso\n",
      "clfB = linear_model.Lasso(alpha=10.0)\n",
      "clfB.fit(X_train, y_train)"
     ],
     "language": "python",
     "metadata": {},
     "outputs": [
      {
       "metadata": {},
       "output_type": "pyout",
       "prompt_number": 33,
       "text": [
        "Lasso(alpha=10.0, copy_X=True, fit_intercept=True, max_iter=1000,\n",
        "   normalize=False, positive=False, precompute='auto', tol=0.0001,\n",
        "   warm_start=False)"
       ]
      }
     ],
     "prompt_number": 33
    },
    {
     "cell_type": "code",
     "collapsed": false,
     "input": [
      "mean_squared_error(y_test, clfA.predict(X_test))"
     ],
     "language": "python",
     "metadata": {},
     "outputs": [
      {
       "metadata": {},
       "output_type": "pyout",
       "prompt_number": 37,
       "text": [
        "23.52399255894391"
       ]
      }
     ],
     "prompt_number": 37
    },
    {
     "cell_type": "code",
     "collapsed": false,
     "input": [
      "r2_score(y_test, clfA.predict(X_test))"
     ],
     "language": "python",
     "metadata": {},
     "outputs": [
      {
       "metadata": {},
       "output_type": "pyout",
       "prompt_number": 38,
       "text": [
        "0.69115776289810094"
       ]
      }
     ],
     "prompt_number": 38
    },
    {
     "cell_type": "code",
     "collapsed": false,
     "input": [
      "mean_squared_error(y_test, clfB.predict(X_test))"
     ],
     "language": "python",
     "metadata": {},
     "outputs": [
      {
       "metadata": {},
       "output_type": "pyout",
       "prompt_number": 34,
       "text": [
        "77.270497928261307"
       ]
      }
     ],
     "prompt_number": 34
    },
    {
     "cell_type": "code",
     "collapsed": false,
     "input": [
      "r2_score(y_test, clfB.predict(X_test))"
     ],
     "language": "python",
     "metadata": {},
     "outputs": [
      {
       "metadata": {},
       "output_type": "pyout",
       "prompt_number": 35,
       "text": [
        "-0.014470370297262614"
       ]
      }
     ],
     "prompt_number": 35
    },
    {
     "cell_type": "code",
     "collapsed": false,
     "input": [
      "from sklearn.linear_model import Lasso\n",
      "clfC = linear_model.Lasso(alpha=0.01)\n",
      "clfC.fit(X_train, y_train)"
     ],
     "language": "python",
     "metadata": {},
     "outputs": [
      {
       "metadata": {},
       "output_type": "pyout",
       "prompt_number": 42,
       "text": [
        "Lasso(alpha=0.01, copy_X=True, fit_intercept=True, max_iter=1000,\n",
        "   normalize=False, positive=False, precompute='auto', tol=0.0001,\n",
        "   warm_start=False)"
       ]
      }
     ],
     "prompt_number": 42
    },
    {
     "cell_type": "code",
     "collapsed": false,
     "input": [
      "mean_squared_error(y_test, clfC.predict(X_test))"
     ],
     "language": "python",
     "metadata": {},
     "outputs": [
      {
       "metadata": {},
       "output_type": "pyout",
       "prompt_number": 43,
       "text": [
        "23.077996061056627"
       ]
      }
     ],
     "prompt_number": 43
    },
    {
     "cell_type": "code",
     "collapsed": false,
     "input": [
      "r2_score(y_test, clfC.predict(X_test))"
     ],
     "language": "python",
     "metadata": {},
     "outputs": [
      {
       "metadata": {},
       "output_type": "pyout",
       "prompt_number": 44,
       "text": [
        "0.6970131701297595"
       ]
      }
     ],
     "prompt_number": 44
    },
    {
     "cell_type": "code",
     "collapsed": false,
     "input": [],
     "language": "python",
     "metadata": {},
     "outputs": []
    }
   ],
   "metadata": {}
  }
 ]
}