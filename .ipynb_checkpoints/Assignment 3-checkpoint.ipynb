{
 "metadata": {
  "name": "",
  "signature": "sha256:b5b2df1006e121ceafe5ef76d44f7d9882e972a21abd5cb0d12a3eae67bff7b2"
 },
 "nbformat": 3,
 "nbformat_minor": 0,
 "worksheets": [
  {
   "cells": [
    {
     "cell_type": "markdown",
     "metadata": {},
     "source": [
      "#Predicting Survival on the Titanic using Logistic Regression\n",
      "\n",
      "My model will use the independent variables Pclass and age to predict the dependent variable survived.\n",
      "\n",
      "#Data Prep\n",
      "Here I'll prepare the data for the assignment"
     ]
    },
    {
     "cell_type": "code",
     "collapsed": false,
     "input": [
      "import pandas as pd\n",
      "%pylab inline"
     ],
     "language": "python",
     "metadata": {},
     "outputs": [
      {
       "output_type": "stream",
       "stream": "stdout",
       "text": [
        "Populating the interactive namespace from numpy and matplotlib\n"
       ]
      }
     ],
     "prompt_number": 180
    },
    {
     "cell_type": "code",
     "collapsed": false,
     "input": [
      "df = pd.read_csv(\"train.csv\")"
     ],
     "language": "python",
     "metadata": {},
     "outputs": [],
     "prompt_number": 181
    },
    {
     "cell_type": "code",
     "collapsed": false,
     "input": [
      "df.columns"
     ],
     "language": "python",
     "metadata": {},
     "outputs": [
      {
       "metadata": {},
       "output_type": "pyout",
       "prompt_number": 182,
       "text": [
        "Index([u'PassengerId', u'Survived', u'Pclass', u'Name', u'Sex', u'Age', u'SibSp', u'Parch', u'Ticket', u'Fare', u'Cabin', u'Embarked'], dtype='object')"
       ]
      }
     ],
     "prompt_number": 182
    },
    {
     "cell_type": "code",
     "collapsed": false,
     "input": [
      "#I'm going to create a new dataframe and put only the three variables I'm going to be using into it.\n",
      "X = pd.DataFrame()\n",
      "X['pclass'] = df['Pclass']\n",
      "X['sex'] = df['Sex']\n",
      "X['age'] = df['Age']\n",
      "X['survived'] = df['Survived']\n",
      "X['embarked'] = df['Embarked']\n",
      "X['parch'] = df['Parch']"
     ],
     "language": "python",
     "metadata": {},
     "outputs": [],
     "prompt_number": 183
    },
    {
     "cell_type": "code",
     "collapsed": false,
     "input": [
      "#I'm going to drop missing values.\n",
      "X = X.dropna(axis=0)"
     ],
     "language": "python",
     "metadata": {},
     "outputs": [],
     "prompt_number": 184
    },
    {
     "cell_type": "code",
     "collapsed": false,
     "input": [
      "#survived will be my dependent variable, y.   I'll assign it to y and remove it from X\n",
      "y = X['survived']\n",
      "X = X.drop(['survived'], axis=1)"
     ],
     "language": "python",
     "metadata": {},
     "outputs": [],
     "prompt_number": 185
    },
    {
     "cell_type": "code",
     "collapsed": false,
     "input": [
      "#We can use pandas get_dummies to implement one hot encoding since Pclass is categorical.\n",
      "X = X.join(pd.get_dummies(df.Pclass, prefix='pclass'))"
     ],
     "language": "python",
     "metadata": {},
     "outputs": [],
     "prompt_number": 186
    },
    {
     "cell_type": "code",
     "collapsed": false,
     "input": [
      "#drop the original variable and also pclass_1\n",
      "X = X.drop(['pclass_1', 'pclass'], axis=1)"
     ],
     "language": "python",
     "metadata": {},
     "outputs": [],
     "prompt_number": 187
    },
    {
     "cell_type": "code",
     "collapsed": false,
     "input": [
      "X = X.join(pd.get_dummies(df.Embarked, prefix='embarked'))"
     ],
     "language": "python",
     "metadata": {},
     "outputs": [],
     "prompt_number": 188
    },
    {
     "cell_type": "code",
     "collapsed": false,
     "input": [
      "X = X.drop(['embarked_Q', 'embarked'], axis=1)"
     ],
     "language": "python",
     "metadata": {},
     "outputs": [],
     "prompt_number": 189
    },
    {
     "cell_type": "code",
     "collapsed": false,
     "input": [
      "X['sex'] = pd.get_dummies(X.sex)['female']"
     ],
     "language": "python",
     "metadata": {},
     "outputs": [],
     "prompt_number": 190
    },
    {
     "cell_type": "code",
     "collapsed": false,
     "input": [
      "#Scale our features, as with linear regression\n",
      "from sklearn.cross_validation import train_test_split\n",
      "from sklearn.preprocessing import StandardScaler\n",
      "scaler = StandardScaler()\n",
      "X= scaler.fit_transform(X)"
     ],
     "language": "python",
     "metadata": {},
     "outputs": [],
     "prompt_number": 191
    },
    {
     "cell_type": "code",
     "collapsed": false,
     "input": [
      "#build test and training sets\n",
      "X_train, X_test, y_train, y_test = train_test_split(X, y, test_size=0.2, random_state=35)"
     ],
     "language": "python",
     "metadata": {},
     "outputs": [],
     "prompt_number": 200
    },
    {
     "cell_type": "markdown",
     "metadata": {},
     "source": [
      "###Base Rate Model\n",
      "For my baserate model, I'm going to predict that everyone dies."
     ]
    },
    {
     "cell_type": "code",
     "collapsed": false,
     "input": [
      "def base_rate_model(X):\n",
      "    y = np.zeros(X.shape[0])\n",
      "    return y"
     ],
     "language": "python",
     "metadata": {},
     "outputs": [],
     "prompt_number": 201
    },
    {
     "cell_type": "code",
     "collapsed": false,
     "input": [
      "#how accurate is my base rate model?\n",
      "y_base_rate = base_rate_model(X_test)\n",
      "from sklearn.metrics import accuracy_score\n",
      "print \"Base rate accuracy is %2.2f\" % accuracy_score(y_test, y_base_rate)"
     ],
     "language": "python",
     "metadata": {},
     "outputs": [
      {
       "output_type": "stream",
       "stream": "stdout",
       "text": [
        "Base rate accuracy is 0.64\n"
       ]
      }
     ],
     "prompt_number": 202
    },
    {
     "cell_type": "markdown",
     "metadata": {},
     "source": [
      "The base model is 61% correct, lets see if logistic can beat it."
     ]
    },
    {
     "cell_type": "code",
     "collapsed": false,
     "input": [
      "from sklearn.linear_model import LogisticRegression\n",
      "model = LogisticRegression(penalty='l2', C=1)"
     ],
     "language": "python",
     "metadata": {},
     "outputs": [],
     "prompt_number": 203
    },
    {
     "cell_type": "code",
     "collapsed": false,
     "input": [
      "model.fit(X_train, y_train)"
     ],
     "language": "python",
     "metadata": {},
     "outputs": [
      {
       "metadata": {},
       "output_type": "pyout",
       "prompt_number": 204,
       "text": [
        "LogisticRegression(C=1, class_weight=None, dual=False, fit_intercept=True,\n",
        "          intercept_scaling=1, penalty='l2', random_state=None, tol=0.0001)"
       ]
      }
     ],
     "prompt_number": 204
    },
    {
     "cell_type": "code",
     "collapsed": false,
     "input": [
      "print \"Logistic accuracy is %2.2f\" % accuracy_score(y_test,model.predict(X_test))"
     ],
     "language": "python",
     "metadata": {},
     "outputs": [
      {
       "output_type": "stream",
       "stream": "stdout",
       "text": [
        "Logistic accuracy is 0.84\n"
       ]
      }
     ],
     "prompt_number": 205
    },
    {
     "cell_type": "code",
     "collapsed": false,
     "input": [
      "from sklearn.metrics import roc_auc_score\n",
      "from sklearn.metrics import classification_report"
     ],
     "language": "python",
     "metadata": {},
     "outputs": [],
     "prompt_number": 206
    },
    {
     "cell_type": "code",
     "collapsed": false,
     "input": [
      "print \"---Base Model---\"\n",
      "#base rate AUC\n",
      "base_roc_auc = roc_auc_score(y_test, base_rate_model(X_test))\n",
      "print \"Base Rate AUC = %2.2f\" % base_roc_auc\n",
      "print classification_report(y_test,base_rate_model(X_test) )\n",
      "print \"\\n\\n---Logistic Model---\"\n",
      "#logistic AUC\n",
      "logit_roc_auc = roc_auc_score(y_test, model.predict(X_test))\n",
      "print \"Logistic AUC = %2.2f\" % logit_roc_auc\n",
      "print classification_report(y_test, model.predict(X_test) )"
     ],
     "language": "python",
     "metadata": {},
     "outputs": [
      {
       "output_type": "stream",
       "stream": "stdout",
       "text": [
        "---Base Model---\n",
        "Base Rate AUC = 0.50\n",
        "             precision    recall  f1-score   support\n",
        "\n",
        "          0       0.64      1.00      0.78        91\n",
        "          1       0.00      0.00      0.00        52\n",
        "\n",
        "avg / total       0.40      0.64      0.49       143\n",
        "\n",
        "\n",
        "\n",
        "---Logistic Model---\n",
        "Logistic AUC = 0.84\n",
        "             precision    recall  f1-score   support\n",
        "\n",
        "          0       0.90      0.84      0.87        91\n",
        "          1       0.75      0.85      0.79        52\n",
        "\n",
        "avg / total       0.85      0.84      0.84       143\n",
        "\n"
       ]
      }
     ],
     "prompt_number": 207
    },
    {
     "cell_type": "code",
     "collapsed": false,
     "input": [
      "from sklearn.metrics import roc_curve\n",
      "fpr, tpr, thresholds = roc_curve(y_test, model.predict_proba(X_test)[:,1])"
     ],
     "language": "python",
     "metadata": {},
     "outputs": [],
     "prompt_number": 208
    },
    {
     "cell_type": "code",
     "collapsed": false,
     "input": [
      "# Plot of a ROC curve for a specific class\n",
      "plt.figure()\n",
      "plt.plot(fpr, tpr, label='ROC curve (area = %0.2f)' % logit_roc_auc)\n",
      "plt.plot([0, 1], [0, 1], 'k--')\n",
      "plt.xlim([0.0, 1.0])\n",
      "plt.ylim([0.0, 1.05])\n",
      "plt.xlabel('False Positive Rate')\n",
      "plt.ylabel('True Positive Rate')\n",
      "plt.title('Receiver operating characteristic example')\n",
      "plt.legend(loc=\"lower right\")\n",
      "plt.show()"
     ],
     "language": "python",
     "metadata": {},
     "outputs": [
      {
       "metadata": {},
       "output_type": "display_data",
       "png": "[encoded data removed]",
       "text": [
        "<matplotlib.figure.Figure at 0x10acc5b90>"
       ]
      }
     ],
     "prompt_number": 209
    },
    {
     "cell_type": "code",
     "collapsed": false,
     "input": [],
     "language": "python",
     "metadata": {},
     "outputs": []
    }
   ],
   "metadata": {}
  }
 ]
}