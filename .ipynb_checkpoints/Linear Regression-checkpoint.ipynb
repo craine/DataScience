{
 "metadata": {
  "name": "",
  "signature": "sha256:894475e5e63c1bd300812b4eb69375a41bf5dc19061819c60034784a4ceba8c6"
 },
 "nbformat": 3,
 "nbformat_minor": 0,
 "worksheets": [
  {
   "cells": [
    {
     "cell_type": "code",
     "collapsed": false,
     "input": [
      "#z-scores some array\n",
      "def scaleData(z):\n",
      "   mu = z.mean(axis=0)\n",
      "   sigma = z.std(axis=0)\n",
      "   z = (z - mu)/sigma \n",
      "   return z, mu, sigma"
     ],
     "language": "python",
     "metadata": {},
     "outputs": [],
     "prompt_number": 1
    },
    {
     "cell_type": "code",
     "collapsed": false,
     "input": [
      "import numpy as np\n",
      "\n",
      "#My sample data set to train our regression with.   \n",
      "#This is an array with features price, bedrooms, and square footage\n",
      "#For example a 100,000 dollar house has 2 bedrooms and 1600 square feet.\n",
      "\n",
      "trainData = np.array([[100000,2,1600],\n",
      "                     [200000,4,2500],\n",
      "                     [250000,4,3000],\n",
      "                     [150000,3,2000]])\n",
      "#We'll scale the data as noted above.\n",
      "trainData, mu, sigma = scaleData(trainData)"
     ],
     "language": "python",
     "metadata": {},
     "outputs": [],
     "prompt_number": 3
    },
    {
     "cell_type": "code",
     "collapsed": false,
     "input": [
      "y = np.matrix(trainData[:,0]) #slice the first column, house price\n",
      "y = y.T #we just prefer y to be a column vector instead of a row vector.\n",
      "X = np.matrix(trainData[:,1:]) #slice the rest of the column into matrix X\n",
      "\n",
      "#get the number of training samples in X\n",
      "m = y.size\n",
      "#Add a column of ones, size m, to X (interception data)\n",
      "it = np.ones(shape=(m, 1))\n",
      "X = np.append(it,X,1)"
     ],
     "language": "python",
     "metadata": {},
     "outputs": [],
     "prompt_number": 4
    },
    {
     "cell_type": "code",
     "collapsed": false,
     "input": [
      "#Evaluate the linear regression\n",
      "def compute_cost(X, y, theta):\n",
      "    m = y.size\n",
      "    y_hat = X.dot(theta)\n",
      "    J = (1.0/2*m)* (y_hat - y).T.dot((y_hat - y))  \n",
      "    return J"
     ],
     "language": "python",
     "metadata": {},
     "outputs": [],
     "prompt_number": 5
    },
    {
     "cell_type": "code",
     "collapsed": false,
     "input": [
      "def gradient_descent(X, y, theta, alpha, num_iters):\n",
      "   \n",
      "    m = y.size\n",
      "    J_history = np.zeros(shape=(num_iters, 1)) # a column vec to hold our previous Js\n",
      " \n",
      "    for i in range(num_iters):\n",
      "        gradient = (1.0/2*m) * (( y - X.dot(theta)).T.dot(X)).T\n",
      "        theta =  theta + (alpha * gradient)\n",
      "        J_history[i, 0] = compute_cost(X, y, theta)\n",
      "    return theta, J_history"
     ],
     "language": "python",
     "metadata": {},
     "outputs": [],
     "prompt_number": 6
    },
    {
     "cell_type": "code",
     "collapsed": false,
     "input": [
      "alpha = .01\n",
      "iterations = 1000\n",
      "#np.shape[1] is the number of features, so we need an equal # of thetas\n",
      "theta = np.zeros((X.shape[1],1))\n",
      "\n",
      "theta, J_history = gradient_descent(X,y,theta,alpha, iterations)\n",
      "print theta"
     ],
     "language": "python",
     "metadata": {},
     "outputs": [
      {
       "output_type": "stream",
       "stream": "stdout",
       "text": [
        "[[ -7.32747196e-17]\n",
        " [  1.06878296e-01]\n",
        " [  8.99016733e-01]]\n"
       ]
      }
     ],
     "prompt_number": 7
    },
    {
     "cell_type": "code",
     "collapsed": false,
     "input": [
      "from pylab import *\n",
      "def plot_grad_descent(alpha, iterNum):\n",
      "    theta = np.zeros((X.shape[1],1))#reinitialize theta\n",
      "    theta, J_history = gradient_descent(X, y,theta, alpha, iterNum)\n",
      "    plot(J_history)\n",
      "    title(\"alpha = \" +str(alpha)+ \"; iterations = \" +str(iterNum))\n",
      "    show()"
     ],
     "language": "python",
     "metadata": {},
     "outputs": [],
     "prompt_number": 8
    },
    {
     "cell_type": "code",
     "collapsed": false,
     "input": [
      "plot_grad_descent(.01,10)"
     ],
     "language": "python",
     "metadata": {},
     "outputs": [],
     "prompt_number": 9
    },
    {
     "cell_type": "code",
     "collapsed": false,
     "input": [
      "plot_grad_descent(.01,100)"
     ],
     "language": "python",
     "metadata": {},
     "outputs": [],
     "prompt_number": 10
    },
    {
     "cell_type": "code",
     "collapsed": false,
     "input": [
      "alpha = .01\n",
      "iterations = 100\n",
      "#np.shape[1] is the number of features, so we need an equal # of thetas\n",
      "theta = np.zeros((X.shape[1],1))\n",
      "theta, J_history = gradient_descent(X,y,theta,alpha, iterations)\n",
      "\n",
      "testData = np.array([[2,2000],\n",
      "                     [3,2200],\n",
      "                     [5,4000]])\n",
      "\n",
      "\n",
      "\n",
      "testData, muTest, sigmaTest = scaleData(testData)\n",
      "\n",
      "\n",
      "#Add a column of ones to X (intercept term)\n",
      "m = testData.shape[0]\n",
      "it = np.ones(shape=(m, 1))\n",
      "testData = np.append(it,testData,1)"
     ],
     "language": "python",
     "metadata": {},
     "outputs": [],
     "prompt_number": 11
    },
    {
     "cell_type": "code",
     "collapsed": false,
     "input": [
      "print testData\n",
      "print theta"
     ],
     "language": "python",
     "metadata": {},
     "outputs": [
      {
       "output_type": "stream",
       "stream": "stdout",
       "text": [
        "[[ 1.         -1.06904497 -0.81537425]\n",
        " [ 1.         -0.26726124 -0.59299945]\n",
        " [ 1.          1.33630621  1.4083737 ]]\n",
        "[[ -2.99760217e-17]\n",
        " [  3.34169146e-01]\n",
        " [  6.71725831e-01]]\n"
       ]
      }
     ],
     "prompt_number": 12
    },
    {
     "cell_type": "code",
     "collapsed": false,
     "input": [
      "#predicted house prices, unscaled.\n",
      "print (testData.dot(theta)*sigma[0]+mu[0])"
     ],
     "language": "python",
     "metadata": {},
     "outputs": [
      {
       "output_type": "stream",
       "stream": "stdout",
       "text": [
        "[[ 124411.76891421]\n",
        " [ 147739.89898822]\n",
        " [ 252848.33209757]]\n"
       ]
      }
     ],
     "prompt_number": 13
    },
    {
     "cell_type": "code",
     "collapsed": false,
     "input": [],
     "language": "python",
     "metadata": {},
     "outputs": []
    }
   ],
   "metadata": {}
  }
 ]
}