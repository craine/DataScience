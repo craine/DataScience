{
 "metadata": {
  "name": "",
  "signature": "sha256:f2e6328c9da1f4e64dc6a28bcd7c0fd8a265f38a376f65861167d8a6ab0077ba"
 },
 "nbformat": 3,
 "nbformat_minor": 0,
 "worksheets": [
  {
   "cells": [
    {
     "cell_type": "markdown",
     "metadata": {},
     "source": [
      "# Predicting Breast Cancer"
     ]
    },
    {
     "cell_type": "markdown",
     "metadata": {},
     "source": [
      "You've just been hired by the Chief Oncologist of Seattle Grace Hospital.   She wants to develop a less invasive test for idenfying malignant tumors in breast tissue.  She's teamed up with a west coast technology company to develop a system that can scan tumors without biopsy.  She's hired you to determine if it's possible to use these scans to determine if a tumor is malignant or benign.   \n",
      "\n",
      "Your job is to determine if it's possible to create a machine learning model that can predict if a tumor is malignant or benign using the given data. \n",
      "\n",
      "Rules\n",
      "\n",
      "* You should use a random forest\n",
      "* You may use any or all of the features.\n",
      "\n",
      "Deliverables\n",
      "\n",
      "1.  You will need to produce a document that explains:\n",
      "\n",
      "A)  Were you successful in attempting to create a machine learning model to predict malignant tumors.\n",
      "\n",
      "B) The hospitals lawyers are VERY careful and are worred about the accuracy of your model.  You'll need to inform them of the risks of using your system, and possibly convince them of it's safety.  \n",
      "\n",
      "1.  How good is your model?  \n",
      "\n",
      "2.  How likely is it fasely predict breast cancer?\n",
      "\n",
      "3.  How likely is it to miss a malignant case?\n",
      "\n",
      "C)  The Chief Oncologist needs to be convinced that the system is making 'realistic' choices and wants to understand which variables are the most important in predicting cancer.   Explain or show the Doctor which variables are most important.\n",
      "\n"
     ]
    },
    {
     "cell_type": "code",
     "collapsed": false,
     "input": [
      "%matplotlib inline"
     ],
     "language": "python",
     "metadata": {},
     "outputs": [],
     "prompt_number": 35
    },
    {
     "cell_type": "markdown",
     "metadata": {},
     "source": [
      "##Most important parameters (and what they mean)\n",
      " * ###Parameters that will make your model better\n",
      "  * <b>n_estimators</b>: The number of trees in the forest. Choose as high of a number as your computer can handle.\n",
      "  * <b>max_features</b>: The number of features to consider when looking for the best split. Try [\"auto\", \"None\", \"sqrt\", \"log2\", 0.9, and 0.2]\n",
      "  * <b>min_samples_leaf</b>: The minimum number of samples in newly created leaves.Try [1, 2, 3]. If 3 is the best, try higher numbers.\n",
      " * ###Parameters that will make it easier to train your model\n",
      "  * <b>n_jobs</b>: Determines if multiple processors should be used to train and test the model. Always set this to -1 and %%timeit vs. if it is set to 1. It should be much faster (especially when many trees are trained).\n",
      "  * <b>random_state</b>: Set this to 42 if you want to be cool AND want others to be able to replicate your results.\n",
      " "
     ]
    },
    {
     "cell_type": "code",
     "collapsed": false,
     "input": [
      "from sklearn.ensemble import RandomForestClassifier\n",
      "from sklearn.metrics import roc_auc_score\n",
      "from sklearn.metrics import classification_report\n",
      "import numpy as np\n",
      "import pandas as pd\n",
      "X = pd.read_csv(\"breast_cancer.csv\")\n",
      "y = X.pop(\"malignant\")"
     ],
     "language": "python",
     "metadata": {},
     "outputs": [],
     "prompt_number": 84
    },
    {
     "cell_type": "code",
     "collapsed": false,
     "input": [
      "X.describe()"
     ],
     "language": "python",
     "metadata": {},
     "outputs": [
      {
       "html": [
        "<div style=\"max-height:1000px;max-width:1500px;overflow:auto;\">\n",
        "<table border=\"1\" class=\"dataframe\">\n",
        "  <thead>\n",
        "    <tr style=\"text-align: right;\">\n",
        "      <th></th>\n",
        "      <th>Unnamed: 0</th>\n",
        "      <th>id number</th>\n",
        "      <th>clump_thickness</th>\n",
        "      <th>uniformity_of_cell_size</th>\n",
        "      <th>uniformity_of_cell_shape</th>\n",
        "      <th>marginal_adhesion</th>\n",
        "      <th>epithelial_cell_size</th>\n",
        "      <th>bare_nuclei</th>\n",
        "      <th>bland_chromatin</th>\n",
        "      <th>normal_nucleoli</th>\n",
        "      <th>mitoses</th>\n",
        "    </tr>\n",
        "  </thead>\n",
        "  <tbody>\n",
        "    <tr>\n",
        "      <th>count</th>\n",
        "      <td> 699.000000</td>\n",
        "      <td>      699.000000</td>\n",
        "      <td> 699.000000</td>\n",
        "      <td> 699.000000</td>\n",
        "      <td> 699.000000</td>\n",
        "      <td> 699.000000</td>\n",
        "      <td> 699.000000</td>\n",
        "      <td> 699.000000</td>\n",
        "      <td> 699.000000</td>\n",
        "      <td> 699.000000</td>\n",
        "      <td> 699.000000</td>\n",
        "    </tr>\n",
        "    <tr>\n",
        "      <th>mean</th>\n",
        "      <td> 349.000000</td>\n",
        "      <td>  1071704.098712</td>\n",
        "      <td>   4.417740</td>\n",
        "      <td>   3.134478</td>\n",
        "      <td>   3.207439</td>\n",
        "      <td>   2.806867</td>\n",
        "      <td>   3.216023</td>\n",
        "      <td>   3.440629</td>\n",
        "      <td>   3.437768</td>\n",
        "      <td>   2.866953</td>\n",
        "      <td>   1.589413</td>\n",
        "    </tr>\n",
        "    <tr>\n",
        "      <th>std</th>\n",
        "      <td> 201.928205</td>\n",
        "      <td>   617095.729819</td>\n",
        "      <td>   2.815741</td>\n",
        "      <td>   3.051459</td>\n",
        "      <td>   2.971913</td>\n",
        "      <td>   2.855379</td>\n",
        "      <td>   2.214300</td>\n",
        "      <td>   3.665507</td>\n",
        "      <td>   2.438364</td>\n",
        "      <td>   3.053634</td>\n",
        "      <td>   1.715078</td>\n",
        "    </tr>\n",
        "    <tr>\n",
        "      <th>min</th>\n",
        "      <td>   0.000000</td>\n",
        "      <td>    61634.000000</td>\n",
        "      <td>   1.000000</td>\n",
        "      <td>   1.000000</td>\n",
        "      <td>   1.000000</td>\n",
        "      <td>   1.000000</td>\n",
        "      <td>   1.000000</td>\n",
        "      <td>  -1.000000</td>\n",
        "      <td>   1.000000</td>\n",
        "      <td>   1.000000</td>\n",
        "      <td>   1.000000</td>\n",
        "    </tr>\n",
        "    <tr>\n",
        "      <th>25%</th>\n",
        "      <td> 174.500000</td>\n",
        "      <td>   870688.500000</td>\n",
        "      <td>   2.000000</td>\n",
        "      <td>   1.000000</td>\n",
        "      <td>   1.000000</td>\n",
        "      <td>   1.000000</td>\n",
        "      <td>   2.000000</td>\n",
        "      <td>   1.000000</td>\n",
        "      <td>   2.000000</td>\n",
        "      <td>   1.000000</td>\n",
        "      <td>   1.000000</td>\n",
        "    </tr>\n",
        "    <tr>\n",
        "      <th>50%</th>\n",
        "      <td> 349.000000</td>\n",
        "      <td>  1171710.000000</td>\n",
        "      <td>   4.000000</td>\n",
        "      <td>   1.000000</td>\n",
        "      <td>   1.000000</td>\n",
        "      <td>   1.000000</td>\n",
        "      <td>   2.000000</td>\n",
        "      <td>   1.000000</td>\n",
        "      <td>   3.000000</td>\n",
        "      <td>   1.000000</td>\n",
        "      <td>   1.000000</td>\n",
        "    </tr>\n",
        "    <tr>\n",
        "      <th>75%</th>\n",
        "      <td> 523.500000</td>\n",
        "      <td>  1238298.000000</td>\n",
        "      <td>   6.000000</td>\n",
        "      <td>   5.000000</td>\n",
        "      <td>   5.000000</td>\n",
        "      <td>   4.000000</td>\n",
        "      <td>   4.000000</td>\n",
        "      <td>   5.000000</td>\n",
        "      <td>   5.000000</td>\n",
        "      <td>   4.000000</td>\n",
        "      <td>   1.000000</td>\n",
        "    </tr>\n",
        "    <tr>\n",
        "      <th>max</th>\n",
        "      <td> 698.000000</td>\n",
        "      <td> 13454352.000000</td>\n",
        "      <td>  10.000000</td>\n",
        "      <td>  10.000000</td>\n",
        "      <td>  10.000000</td>\n",
        "      <td>  10.000000</td>\n",
        "      <td>  10.000000</td>\n",
        "      <td>  10.000000</td>\n",
        "      <td>  10.000000</td>\n",
        "      <td>  10.000000</td>\n",
        "      <td>  10.000000</td>\n",
        "    </tr>\n",
        "  </tbody>\n",
        "</table>\n",
        "</div>"
       ],
       "metadata": {},
       "output_type": "pyout",
       "prompt_number": 37,
       "text": [
        "       Unnamed: 0        id number  clump_thickness  uniformity_of_cell_size  \\\n",
        "count  699.000000       699.000000       699.000000               699.000000   \n",
        "mean   349.000000   1071704.098712         4.417740                 3.134478   \n",
        "std    201.928205    617095.729819         2.815741                 3.051459   \n",
        "min      0.000000     61634.000000         1.000000                 1.000000   \n",
        "25%    174.500000    870688.500000         2.000000                 1.000000   \n",
        "50%    349.000000   1171710.000000         4.000000                 1.000000   \n",
        "75%    523.500000   1238298.000000         6.000000                 5.000000   \n",
        "max    698.000000  13454352.000000        10.000000                10.000000   \n",
        "\n",
        "       uniformity_of_cell_shape  marginal_adhesion  epithelial_cell_size  \\\n",
        "count                699.000000         699.000000            699.000000   \n",
        "mean                   3.207439           2.806867              3.216023   \n",
        "std                    2.971913           2.855379              2.214300   \n",
        "min                    1.000000           1.000000              1.000000   \n",
        "25%                    1.000000           1.000000              2.000000   \n",
        "50%                    1.000000           1.000000              2.000000   \n",
        "75%                    5.000000           4.000000              4.000000   \n",
        "max                   10.000000          10.000000             10.000000   \n",
        "\n",
        "       bare_nuclei  bland_chromatin  normal_nucleoli     mitoses  \n",
        "count   699.000000       699.000000       699.000000  699.000000  \n",
        "mean      3.440629         3.437768         2.866953    1.589413  \n",
        "std       3.665507         2.438364         3.053634    1.715078  \n",
        "min      -1.000000         1.000000         1.000000    1.000000  \n",
        "25%       1.000000         2.000000         1.000000    1.000000  \n",
        "50%       1.000000         3.000000         1.000000    1.000000  \n",
        "75%       5.000000         5.000000         4.000000    1.000000  \n",
        "max      10.000000        10.000000        10.000000   10.000000  "
       ]
      }
     ],
     "prompt_number": 37
    },
    {
     "cell_type": "markdown",
     "metadata": {},
     "source": [
      "Appears all categories except id number are categorical"
     ]
    },
    {
     "cell_type": "code",
     "collapsed": false,
     "input": [
      "# Get just the numeric variables by selecting only the variables that are not \"object\" datatypes.\n",
      "numeric_variables = list(X.dtypes[X.dtypes != \"object\"].index)\n",
      "X[numeric_variables].head()"
     ],
     "language": "python",
     "metadata": {},
     "outputs": [
      {
       "html": [
        "<div style=\"max-height:1000px;max-width:1500px;overflow:auto;\">\n",
        "<table border=\"1\" class=\"dataframe\">\n",
        "  <thead>\n",
        "    <tr style=\"text-align: right;\">\n",
        "      <th></th>\n",
        "      <th>Unnamed: 0</th>\n",
        "      <th>id number</th>\n",
        "      <th>clump_thickness</th>\n",
        "      <th>uniformity_of_cell_size</th>\n",
        "      <th>uniformity_of_cell_shape</th>\n",
        "      <th>marginal_adhesion</th>\n",
        "      <th>epithelial_cell_size</th>\n",
        "      <th>bare_nuclei</th>\n",
        "      <th>bland_chromatin</th>\n",
        "      <th>normal_nucleoli</th>\n",
        "      <th>mitoses</th>\n",
        "    </tr>\n",
        "  </thead>\n",
        "  <tbody>\n",
        "    <tr>\n",
        "      <th>0</th>\n",
        "      <td> 0</td>\n",
        "      <td> 1000025</td>\n",
        "      <td> 5</td>\n",
        "      <td> 1</td>\n",
        "      <td> 1</td>\n",
        "      <td> 1</td>\n",
        "      <td> 2</td>\n",
        "      <td>  1</td>\n",
        "      <td> 3</td>\n",
        "      <td> 1</td>\n",
        "      <td> 1</td>\n",
        "    </tr>\n",
        "    <tr>\n",
        "      <th>1</th>\n",
        "      <td> 1</td>\n",
        "      <td> 1002945</td>\n",
        "      <td> 5</td>\n",
        "      <td> 4</td>\n",
        "      <td> 4</td>\n",
        "      <td> 5</td>\n",
        "      <td> 7</td>\n",
        "      <td> 10</td>\n",
        "      <td> 3</td>\n",
        "      <td> 2</td>\n",
        "      <td> 1</td>\n",
        "    </tr>\n",
        "    <tr>\n",
        "      <th>2</th>\n",
        "      <td> 2</td>\n",
        "      <td> 1015425</td>\n",
        "      <td> 3</td>\n",
        "      <td> 1</td>\n",
        "      <td> 1</td>\n",
        "      <td> 1</td>\n",
        "      <td> 2</td>\n",
        "      <td>  2</td>\n",
        "      <td> 3</td>\n",
        "      <td> 1</td>\n",
        "      <td> 1</td>\n",
        "    </tr>\n",
        "    <tr>\n",
        "      <th>3</th>\n",
        "      <td> 3</td>\n",
        "      <td> 1016277</td>\n",
        "      <td> 6</td>\n",
        "      <td> 8</td>\n",
        "      <td> 8</td>\n",
        "      <td> 1</td>\n",
        "      <td> 3</td>\n",
        "      <td>  4</td>\n",
        "      <td> 3</td>\n",
        "      <td> 7</td>\n",
        "      <td> 1</td>\n",
        "    </tr>\n",
        "    <tr>\n",
        "      <th>4</th>\n",
        "      <td> 4</td>\n",
        "      <td> 1017023</td>\n",
        "      <td> 4</td>\n",
        "      <td> 1</td>\n",
        "      <td> 1</td>\n",
        "      <td> 3</td>\n",
        "      <td> 2</td>\n",
        "      <td>  1</td>\n",
        "      <td> 3</td>\n",
        "      <td> 1</td>\n",
        "      <td> 1</td>\n",
        "    </tr>\n",
        "  </tbody>\n",
        "</table>\n",
        "</div>"
       ],
       "metadata": {},
       "output_type": "pyout",
       "prompt_number": 38,
       "text": [
        "   Unnamed: 0  id number  clump_thickness  uniformity_of_cell_size  \\\n",
        "0           0    1000025                5                        1   \n",
        "1           1    1002945                5                        4   \n",
        "2           2    1015425                3                        1   \n",
        "3           3    1016277                6                        8   \n",
        "4           4    1017023                4                        1   \n",
        "\n",
        "   uniformity_of_cell_shape  marginal_adhesion  epithelial_cell_size  \\\n",
        "0                         1                  1                     2   \n",
        "1                         4                  5                     7   \n",
        "2                         1                  1                     2   \n",
        "3                         8                  1                     3   \n",
        "4                         1                  3                     2   \n",
        "\n",
        "   bare_nuclei  bland_chromatin  normal_nucleoli  mitoses  \n",
        "0            1                3                1        1  \n",
        "1           10                3                2        1  \n",
        "2            2                3                1        1  \n",
        "3            4                3                7        1  \n",
        "4            1                3                1        1  "
       ]
      }
     ],
     "prompt_number": 38
    },
    {
     "cell_type": "markdown",
     "metadata": {},
     "source": [
      "id Number looks like a worthless variable. \n",
      "I am interested in seeing if it is useful for prediction. It might be useful if the id was assigned in some non-random way. "
     ]
    },
    {
     "cell_type": "code",
     "collapsed": false,
     "input": [
      "model = RandomForestClassifier(n_estimators=100, random_state=42)\n",
      "\n",
      "# only use numeric_variables because I have yet to dummy out the categorical variables\n",
      "model.fit(X[numeric_variables], y)"
     ],
     "language": "python",
     "metadata": {},
     "outputs": [
      {
       "metadata": {},
       "output_type": "pyout",
       "prompt_number": 39,
       "text": [
        "RandomForestClassifier(bootstrap=True, compute_importances=None,\n",
        "            criterion='gini', max_depth=None, max_features='auto',\n",
        "            max_leaf_nodes=None, min_density=None, min_samples_leaf=1,\n",
        "            min_samples_split=2, n_estimators=100, n_jobs=1,\n",
        "            oob_score=False, random_state=42, verbose=0)"
       ]
      }
     ],
     "prompt_number": 39
    },
    {
     "cell_type": "code",
     "collapsed": false,
     "input": [
      "# Drop the variables I don't feel like dealing with for this tutorial\n",
      "X.drop([\"Unnamed: 0\", \"id number\"], axis=1, inplace=True)"
     ],
     "language": "python",
     "metadata": {},
     "outputs": [],
     "prompt_number": 40
    },
    {
     "cell_type": "code",
     "collapsed": false,
     "input": [
      "X"
     ],
     "language": "python",
     "metadata": {},
     "outputs": [
      {
       "html": [
        "<div style=\"max-height:1000px;max-width:1500px;overflow:auto;\">\n",
        "<table border=\"1\" class=\"dataframe\">\n",
        "  <thead>\n",
        "    <tr style=\"text-align: right;\">\n",
        "      <th></th>\n",
        "      <th>clump_thickness</th>\n",
        "      <th>uniformity_of_cell_size</th>\n",
        "      <th>uniformity_of_cell_shape</th>\n",
        "      <th>marginal_adhesion</th>\n",
        "      <th>epithelial_cell_size</th>\n",
        "      <th>bare_nuclei</th>\n",
        "      <th>bland_chromatin</th>\n",
        "      <th>normal_nucleoli</th>\n",
        "      <th>mitoses</th>\n",
        "    </tr>\n",
        "  </thead>\n",
        "  <tbody>\n",
        "    <tr>\n",
        "      <th>0  </th>\n",
        "      <td>  5</td>\n",
        "      <td>  1</td>\n",
        "      <td>  1</td>\n",
        "      <td>  1</td>\n",
        "      <td> 2</td>\n",
        "      <td>  1</td>\n",
        "      <td>  3</td>\n",
        "      <td>  1</td>\n",
        "      <td> 1</td>\n",
        "    </tr>\n",
        "    <tr>\n",
        "      <th>1  </th>\n",
        "      <td>  5</td>\n",
        "      <td>  4</td>\n",
        "      <td>  4</td>\n",
        "      <td>  5</td>\n",
        "      <td> 7</td>\n",
        "      <td> 10</td>\n",
        "      <td>  3</td>\n",
        "      <td>  2</td>\n",
        "      <td> 1</td>\n",
        "    </tr>\n",
        "    <tr>\n",
        "      <th>2  </th>\n",
        "      <td>  3</td>\n",
        "      <td>  1</td>\n",
        "      <td>  1</td>\n",
        "      <td>  1</td>\n",
        "      <td> 2</td>\n",
        "      <td>  2</td>\n",
        "      <td>  3</td>\n",
        "      <td>  1</td>\n",
        "      <td> 1</td>\n",
        "    </tr>\n",
        "    <tr>\n",
        "      <th>3  </th>\n",
        "      <td>  6</td>\n",
        "      <td>  8</td>\n",
        "      <td>  8</td>\n",
        "      <td>  1</td>\n",
        "      <td> 3</td>\n",
        "      <td>  4</td>\n",
        "      <td>  3</td>\n",
        "      <td>  7</td>\n",
        "      <td> 1</td>\n",
        "    </tr>\n",
        "    <tr>\n",
        "      <th>4  </th>\n",
        "      <td>  4</td>\n",
        "      <td>  1</td>\n",
        "      <td>  1</td>\n",
        "      <td>  3</td>\n",
        "      <td> 2</td>\n",
        "      <td>  1</td>\n",
        "      <td>  3</td>\n",
        "      <td>  1</td>\n",
        "      <td> 1</td>\n",
        "    </tr>\n",
        "    <tr>\n",
        "      <th>5  </th>\n",
        "      <td>  8</td>\n",
        "      <td> 10</td>\n",
        "      <td> 10</td>\n",
        "      <td>  8</td>\n",
        "      <td> 7</td>\n",
        "      <td> 10</td>\n",
        "      <td>  9</td>\n",
        "      <td>  7</td>\n",
        "      <td> 1</td>\n",
        "    </tr>\n",
        "    <tr>\n",
        "      <th>6  </th>\n",
        "      <td>  1</td>\n",
        "      <td>  1</td>\n",
        "      <td>  1</td>\n",
        "      <td>  1</td>\n",
        "      <td> 2</td>\n",
        "      <td> 10</td>\n",
        "      <td>  3</td>\n",
        "      <td>  1</td>\n",
        "      <td> 1</td>\n",
        "    </tr>\n",
        "    <tr>\n",
        "      <th>7  </th>\n",
        "      <td>  2</td>\n",
        "      <td>  1</td>\n",
        "      <td>  2</td>\n",
        "      <td>  1</td>\n",
        "      <td> 2</td>\n",
        "      <td>  1</td>\n",
        "      <td>  3</td>\n",
        "      <td>  1</td>\n",
        "      <td> 1</td>\n",
        "    </tr>\n",
        "    <tr>\n",
        "      <th>8  </th>\n",
        "      <td>  2</td>\n",
        "      <td>  1</td>\n",
        "      <td>  1</td>\n",
        "      <td>  1</td>\n",
        "      <td> 2</td>\n",
        "      <td>  1</td>\n",
        "      <td>  1</td>\n",
        "      <td>  1</td>\n",
        "      <td> 5</td>\n",
        "    </tr>\n",
        "    <tr>\n",
        "      <th>9  </th>\n",
        "      <td>  4</td>\n",
        "      <td>  2</td>\n",
        "      <td>  1</td>\n",
        "      <td>  1</td>\n",
        "      <td> 2</td>\n",
        "      <td>  1</td>\n",
        "      <td>  2</td>\n",
        "      <td>  1</td>\n",
        "      <td> 1</td>\n",
        "    </tr>\n",
        "    <tr>\n",
        "      <th>10 </th>\n",
        "      <td>  1</td>\n",
        "      <td>  1</td>\n",
        "      <td>  1</td>\n",
        "      <td>  1</td>\n",
        "      <td> 1</td>\n",
        "      <td>  1</td>\n",
        "      <td>  3</td>\n",
        "      <td>  1</td>\n",
        "      <td> 1</td>\n",
        "    </tr>\n",
        "    <tr>\n",
        "      <th>11 </th>\n",
        "      <td>  2</td>\n",
        "      <td>  1</td>\n",
        "      <td>  1</td>\n",
        "      <td>  1</td>\n",
        "      <td> 2</td>\n",
        "      <td>  1</td>\n",
        "      <td>  2</td>\n",
        "      <td>  1</td>\n",
        "      <td> 1</td>\n",
        "    </tr>\n",
        "    <tr>\n",
        "      <th>12 </th>\n",
        "      <td>  5</td>\n",
        "      <td>  3</td>\n",
        "      <td>  3</td>\n",
        "      <td>  3</td>\n",
        "      <td> 2</td>\n",
        "      <td>  3</td>\n",
        "      <td>  4</td>\n",
        "      <td>  4</td>\n",
        "      <td> 1</td>\n",
        "    </tr>\n",
        "    <tr>\n",
        "      <th>13 </th>\n",
        "      <td>  1</td>\n",
        "      <td>  1</td>\n",
        "      <td>  1</td>\n",
        "      <td>  1</td>\n",
        "      <td> 2</td>\n",
        "      <td>  3</td>\n",
        "      <td>  3</td>\n",
        "      <td>  1</td>\n",
        "      <td> 1</td>\n",
        "    </tr>\n",
        "    <tr>\n",
        "      <th>14 </th>\n",
        "      <td>  8</td>\n",
        "      <td>  7</td>\n",
        "      <td>  5</td>\n",
        "      <td> 10</td>\n",
        "      <td> 7</td>\n",
        "      <td>  9</td>\n",
        "      <td>  5</td>\n",
        "      <td>  5</td>\n",
        "      <td> 4</td>\n",
        "    </tr>\n",
        "    <tr>\n",
        "      <th>15 </th>\n",
        "      <td>  7</td>\n",
        "      <td>  4</td>\n",
        "      <td>  6</td>\n",
        "      <td>  4</td>\n",
        "      <td> 6</td>\n",
        "      <td>  1</td>\n",
        "      <td>  4</td>\n",
        "      <td>  3</td>\n",
        "      <td> 1</td>\n",
        "    </tr>\n",
        "    <tr>\n",
        "      <th>16 </th>\n",
        "      <td>  4</td>\n",
        "      <td>  1</td>\n",
        "      <td>  1</td>\n",
        "      <td>  1</td>\n",
        "      <td> 2</td>\n",
        "      <td>  1</td>\n",
        "      <td>  2</td>\n",
        "      <td>  1</td>\n",
        "      <td> 1</td>\n",
        "    </tr>\n",
        "    <tr>\n",
        "      <th>17 </th>\n",
        "      <td>  4</td>\n",
        "      <td>  1</td>\n",
        "      <td>  1</td>\n",
        "      <td>  1</td>\n",
        "      <td> 2</td>\n",
        "      <td>  1</td>\n",
        "      <td>  3</td>\n",
        "      <td>  1</td>\n",
        "      <td> 1</td>\n",
        "    </tr>\n",
        "    <tr>\n",
        "      <th>18 </th>\n",
        "      <td> 10</td>\n",
        "      <td>  7</td>\n",
        "      <td>  7</td>\n",
        "      <td>  6</td>\n",
        "      <td> 4</td>\n",
        "      <td> 10</td>\n",
        "      <td>  4</td>\n",
        "      <td>  1</td>\n",
        "      <td> 2</td>\n",
        "    </tr>\n",
        "    <tr>\n",
        "      <th>19 </th>\n",
        "      <td>  6</td>\n",
        "      <td>  1</td>\n",
        "      <td>  1</td>\n",
        "      <td>  1</td>\n",
        "      <td> 2</td>\n",
        "      <td>  1</td>\n",
        "      <td>  3</td>\n",
        "      <td>  1</td>\n",
        "      <td> 1</td>\n",
        "    </tr>\n",
        "    <tr>\n",
        "      <th>20 </th>\n",
        "      <td>  7</td>\n",
        "      <td>  3</td>\n",
        "      <td>  2</td>\n",
        "      <td> 10</td>\n",
        "      <td> 5</td>\n",
        "      <td> 10</td>\n",
        "      <td>  5</td>\n",
        "      <td>  4</td>\n",
        "      <td> 4</td>\n",
        "    </tr>\n",
        "    <tr>\n",
        "      <th>21 </th>\n",
        "      <td> 10</td>\n",
        "      <td>  5</td>\n",
        "      <td>  5</td>\n",
        "      <td>  3</td>\n",
        "      <td> 6</td>\n",
        "      <td>  7</td>\n",
        "      <td>  7</td>\n",
        "      <td> 10</td>\n",
        "      <td> 1</td>\n",
        "    </tr>\n",
        "    <tr>\n",
        "      <th>22 </th>\n",
        "      <td>  3</td>\n",
        "      <td>  1</td>\n",
        "      <td>  1</td>\n",
        "      <td>  1</td>\n",
        "      <td> 2</td>\n",
        "      <td>  1</td>\n",
        "      <td>  2</td>\n",
        "      <td>  1</td>\n",
        "      <td> 1</td>\n",
        "    </tr>\n",
        "    <tr>\n",
        "      <th>23 </th>\n",
        "      <td>  8</td>\n",
        "      <td>  4</td>\n",
        "      <td>  5</td>\n",
        "      <td>  1</td>\n",
        "      <td> 2</td>\n",
        "      <td> -1</td>\n",
        "      <td>  7</td>\n",
        "      <td>  3</td>\n",
        "      <td> 1</td>\n",
        "    </tr>\n",
        "    <tr>\n",
        "      <th>24 </th>\n",
        "      <td>  1</td>\n",
        "      <td>  1</td>\n",
        "      <td>  1</td>\n",
        "      <td>  1</td>\n",
        "      <td> 2</td>\n",
        "      <td>  1</td>\n",
        "      <td>  3</td>\n",
        "      <td>  1</td>\n",
        "      <td> 1</td>\n",
        "    </tr>\n",
        "    <tr>\n",
        "      <th>25 </th>\n",
        "      <td>  5</td>\n",
        "      <td>  2</td>\n",
        "      <td>  3</td>\n",
        "      <td>  4</td>\n",
        "      <td> 2</td>\n",
        "      <td>  7</td>\n",
        "      <td>  3</td>\n",
        "      <td>  6</td>\n",
        "      <td> 1</td>\n",
        "    </tr>\n",
        "    <tr>\n",
        "      <th>26 </th>\n",
        "      <td>  3</td>\n",
        "      <td>  2</td>\n",
        "      <td>  1</td>\n",
        "      <td>  1</td>\n",
        "      <td> 1</td>\n",
        "      <td>  1</td>\n",
        "      <td>  2</td>\n",
        "      <td>  1</td>\n",
        "      <td> 1</td>\n",
        "    </tr>\n",
        "    <tr>\n",
        "      <th>27 </th>\n",
        "      <td>  5</td>\n",
        "      <td>  1</td>\n",
        "      <td>  1</td>\n",
        "      <td>  1</td>\n",
        "      <td> 2</td>\n",
        "      <td>  1</td>\n",
        "      <td>  2</td>\n",
        "      <td>  1</td>\n",
        "      <td> 1</td>\n",
        "    </tr>\n",
        "    <tr>\n",
        "      <th>28 </th>\n",
        "      <td>  2</td>\n",
        "      <td>  1</td>\n",
        "      <td>  1</td>\n",
        "      <td>  1</td>\n",
        "      <td> 2</td>\n",
        "      <td>  1</td>\n",
        "      <td>  2</td>\n",
        "      <td>  1</td>\n",
        "      <td> 1</td>\n",
        "    </tr>\n",
        "    <tr>\n",
        "      <th>29 </th>\n",
        "      <td>  1</td>\n",
        "      <td>  1</td>\n",
        "      <td>  3</td>\n",
        "      <td>  1</td>\n",
        "      <td> 2</td>\n",
        "      <td>  1</td>\n",
        "      <td>  1</td>\n",
        "      <td>  1</td>\n",
        "      <td> 1</td>\n",
        "    </tr>\n",
        "    <tr>\n",
        "      <th>...</th>\n",
        "      <td>...</td>\n",
        "      <td>...</td>\n",
        "      <td>...</td>\n",
        "      <td>...</td>\n",
        "      <td>...</td>\n",
        "      <td>...</td>\n",
        "      <td>...</td>\n",
        "      <td>...</td>\n",
        "      <td>...</td>\n",
        "    </tr>\n",
        "    <tr>\n",
        "      <th>669</th>\n",
        "      <td>  5</td>\n",
        "      <td> 10</td>\n",
        "      <td> 10</td>\n",
        "      <td>  8</td>\n",
        "      <td> 5</td>\n",
        "      <td>  5</td>\n",
        "      <td>  7</td>\n",
        "      <td> 10</td>\n",
        "      <td> 1</td>\n",
        "    </tr>\n",
        "    <tr>\n",
        "      <th>670</th>\n",
        "      <td>  3</td>\n",
        "      <td> 10</td>\n",
        "      <td>  7</td>\n",
        "      <td>  8</td>\n",
        "      <td> 5</td>\n",
        "      <td>  8</td>\n",
        "      <td>  7</td>\n",
        "      <td>  4</td>\n",
        "      <td> 1</td>\n",
        "    </tr>\n",
        "    <tr>\n",
        "      <th>671</th>\n",
        "      <td>  3</td>\n",
        "      <td>  2</td>\n",
        "      <td>  1</td>\n",
        "      <td>  2</td>\n",
        "      <td> 2</td>\n",
        "      <td>  1</td>\n",
        "      <td>  3</td>\n",
        "      <td>  1</td>\n",
        "      <td> 1</td>\n",
        "    </tr>\n",
        "    <tr>\n",
        "      <th>672</th>\n",
        "      <td>  2</td>\n",
        "      <td>  1</td>\n",
        "      <td>  1</td>\n",
        "      <td>  1</td>\n",
        "      <td> 2</td>\n",
        "      <td>  1</td>\n",
        "      <td>  3</td>\n",
        "      <td>  1</td>\n",
        "      <td> 1</td>\n",
        "    </tr>\n",
        "    <tr>\n",
        "      <th>673</th>\n",
        "      <td>  5</td>\n",
        "      <td>  3</td>\n",
        "      <td>  2</td>\n",
        "      <td>  1</td>\n",
        "      <td> 3</td>\n",
        "      <td>  1</td>\n",
        "      <td>  1</td>\n",
        "      <td>  1</td>\n",
        "      <td> 1</td>\n",
        "    </tr>\n",
        "    <tr>\n",
        "      <th>674</th>\n",
        "      <td>  1</td>\n",
        "      <td>  1</td>\n",
        "      <td>  1</td>\n",
        "      <td>  1</td>\n",
        "      <td> 2</td>\n",
        "      <td>  1</td>\n",
        "      <td>  2</td>\n",
        "      <td>  1</td>\n",
        "      <td> 1</td>\n",
        "    </tr>\n",
        "    <tr>\n",
        "      <th>675</th>\n",
        "      <td>  4</td>\n",
        "      <td>  1</td>\n",
        "      <td>  4</td>\n",
        "      <td>  1</td>\n",
        "      <td> 2</td>\n",
        "      <td>  1</td>\n",
        "      <td>  1</td>\n",
        "      <td>  1</td>\n",
        "      <td> 1</td>\n",
        "    </tr>\n",
        "    <tr>\n",
        "      <th>676</th>\n",
        "      <td>  1</td>\n",
        "      <td>  1</td>\n",
        "      <td>  2</td>\n",
        "      <td>  1</td>\n",
        "      <td> 2</td>\n",
        "      <td>  1</td>\n",
        "      <td>  2</td>\n",
        "      <td>  1</td>\n",
        "      <td> 1</td>\n",
        "    </tr>\n",
        "    <tr>\n",
        "      <th>677</th>\n",
        "      <td>  5</td>\n",
        "      <td>  1</td>\n",
        "      <td>  1</td>\n",
        "      <td>  1</td>\n",
        "      <td> 2</td>\n",
        "      <td>  1</td>\n",
        "      <td>  1</td>\n",
        "      <td>  1</td>\n",
        "      <td> 1</td>\n",
        "    </tr>\n",
        "    <tr>\n",
        "      <th>678</th>\n",
        "      <td>  1</td>\n",
        "      <td>  1</td>\n",
        "      <td>  1</td>\n",
        "      <td>  1</td>\n",
        "      <td> 2</td>\n",
        "      <td>  1</td>\n",
        "      <td>  1</td>\n",
        "      <td>  1</td>\n",
        "      <td> 1</td>\n",
        "    </tr>\n",
        "    <tr>\n",
        "      <th>679</th>\n",
        "      <td>  2</td>\n",
        "      <td>  1</td>\n",
        "      <td>  1</td>\n",
        "      <td>  1</td>\n",
        "      <td> 2</td>\n",
        "      <td>  1</td>\n",
        "      <td>  1</td>\n",
        "      <td>  1</td>\n",
        "      <td> 1</td>\n",
        "    </tr>\n",
        "    <tr>\n",
        "      <th>680</th>\n",
        "      <td> 10</td>\n",
        "      <td> 10</td>\n",
        "      <td> 10</td>\n",
        "      <td> 10</td>\n",
        "      <td> 5</td>\n",
        "      <td> 10</td>\n",
        "      <td> 10</td>\n",
        "      <td> 10</td>\n",
        "      <td> 7</td>\n",
        "    </tr>\n",
        "    <tr>\n",
        "      <th>681</th>\n",
        "      <td>  5</td>\n",
        "      <td> 10</td>\n",
        "      <td> 10</td>\n",
        "      <td> 10</td>\n",
        "      <td> 4</td>\n",
        "      <td> 10</td>\n",
        "      <td>  5</td>\n",
        "      <td>  6</td>\n",
        "      <td> 3</td>\n",
        "    </tr>\n",
        "    <tr>\n",
        "      <th>682</th>\n",
        "      <td>  5</td>\n",
        "      <td>  1</td>\n",
        "      <td>  1</td>\n",
        "      <td>  1</td>\n",
        "      <td> 2</td>\n",
        "      <td>  1</td>\n",
        "      <td>  3</td>\n",
        "      <td>  2</td>\n",
        "      <td> 1</td>\n",
        "    </tr>\n",
        "    <tr>\n",
        "      <th>683</th>\n",
        "      <td>  1</td>\n",
        "      <td>  1</td>\n",
        "      <td>  1</td>\n",
        "      <td>  1</td>\n",
        "      <td> 2</td>\n",
        "      <td>  1</td>\n",
        "      <td>  1</td>\n",
        "      <td>  1</td>\n",
        "      <td> 1</td>\n",
        "    </tr>\n",
        "    <tr>\n",
        "      <th>684</th>\n",
        "      <td>  1</td>\n",
        "      <td>  1</td>\n",
        "      <td>  1</td>\n",
        "      <td>  1</td>\n",
        "      <td> 2</td>\n",
        "      <td>  1</td>\n",
        "      <td>  1</td>\n",
        "      <td>  1</td>\n",
        "      <td> 1</td>\n",
        "    </tr>\n",
        "    <tr>\n",
        "      <th>685</th>\n",
        "      <td>  1</td>\n",
        "      <td>  1</td>\n",
        "      <td>  1</td>\n",
        "      <td>  1</td>\n",
        "      <td> 2</td>\n",
        "      <td>  1</td>\n",
        "      <td>  1</td>\n",
        "      <td>  1</td>\n",
        "      <td> 1</td>\n",
        "    </tr>\n",
        "    <tr>\n",
        "      <th>686</th>\n",
        "      <td>  1</td>\n",
        "      <td>  1</td>\n",
        "      <td>  1</td>\n",
        "      <td>  1</td>\n",
        "      <td> 2</td>\n",
        "      <td>  1</td>\n",
        "      <td>  1</td>\n",
        "      <td>  1</td>\n",
        "      <td> 1</td>\n",
        "    </tr>\n",
        "    <tr>\n",
        "      <th>687</th>\n",
        "      <td>  3</td>\n",
        "      <td>  1</td>\n",
        "      <td>  1</td>\n",
        "      <td>  1</td>\n",
        "      <td> 2</td>\n",
        "      <td>  1</td>\n",
        "      <td>  2</td>\n",
        "      <td>  3</td>\n",
        "      <td> 1</td>\n",
        "    </tr>\n",
        "    <tr>\n",
        "      <th>688</th>\n",
        "      <td>  4</td>\n",
        "      <td>  1</td>\n",
        "      <td>  1</td>\n",
        "      <td>  1</td>\n",
        "      <td> 2</td>\n",
        "      <td>  1</td>\n",
        "      <td>  1</td>\n",
        "      <td>  1</td>\n",
        "      <td> 1</td>\n",
        "    </tr>\n",
        "    <tr>\n",
        "      <th>689</th>\n",
        "      <td>  1</td>\n",
        "      <td>  1</td>\n",
        "      <td>  1</td>\n",
        "      <td>  1</td>\n",
        "      <td> 2</td>\n",
        "      <td>  1</td>\n",
        "      <td>  1</td>\n",
        "      <td>  1</td>\n",
        "      <td> 8</td>\n",
        "    </tr>\n",
        "    <tr>\n",
        "      <th>690</th>\n",
        "      <td>  1</td>\n",
        "      <td>  1</td>\n",
        "      <td>  1</td>\n",
        "      <td>  3</td>\n",
        "      <td> 2</td>\n",
        "      <td>  1</td>\n",
        "      <td>  1</td>\n",
        "      <td>  1</td>\n",
        "      <td> 1</td>\n",
        "    </tr>\n",
        "    <tr>\n",
        "      <th>691</th>\n",
        "      <td>  5</td>\n",
        "      <td> 10</td>\n",
        "      <td> 10</td>\n",
        "      <td>  5</td>\n",
        "      <td> 4</td>\n",
        "      <td>  5</td>\n",
        "      <td>  4</td>\n",
        "      <td>  4</td>\n",
        "      <td> 1</td>\n",
        "    </tr>\n",
        "    <tr>\n",
        "      <th>692</th>\n",
        "      <td>  3</td>\n",
        "      <td>  1</td>\n",
        "      <td>  1</td>\n",
        "      <td>  1</td>\n",
        "      <td> 2</td>\n",
        "      <td>  1</td>\n",
        "      <td>  1</td>\n",
        "      <td>  1</td>\n",
        "      <td> 1</td>\n",
        "    </tr>\n",
        "    <tr>\n",
        "      <th>693</th>\n",
        "      <td>  3</td>\n",
        "      <td>  1</td>\n",
        "      <td>  1</td>\n",
        "      <td>  1</td>\n",
        "      <td> 2</td>\n",
        "      <td>  1</td>\n",
        "      <td>  2</td>\n",
        "      <td>  1</td>\n",
        "      <td> 2</td>\n",
        "    </tr>\n",
        "    <tr>\n",
        "      <th>694</th>\n",
        "      <td>  3</td>\n",
        "      <td>  1</td>\n",
        "      <td>  1</td>\n",
        "      <td>  1</td>\n",
        "      <td> 3</td>\n",
        "      <td>  2</td>\n",
        "      <td>  1</td>\n",
        "      <td>  1</td>\n",
        "      <td> 1</td>\n",
        "    </tr>\n",
        "    <tr>\n",
        "      <th>695</th>\n",
        "      <td>  2</td>\n",
        "      <td>  1</td>\n",
        "      <td>  1</td>\n",
        "      <td>  1</td>\n",
        "      <td> 2</td>\n",
        "      <td>  1</td>\n",
        "      <td>  1</td>\n",
        "      <td>  1</td>\n",
        "      <td> 1</td>\n",
        "    </tr>\n",
        "    <tr>\n",
        "      <th>696</th>\n",
        "      <td>  5</td>\n",
        "      <td> 10</td>\n",
        "      <td> 10</td>\n",
        "      <td>  3</td>\n",
        "      <td> 7</td>\n",
        "      <td>  3</td>\n",
        "      <td>  8</td>\n",
        "      <td> 10</td>\n",
        "      <td> 2</td>\n",
        "    </tr>\n",
        "    <tr>\n",
        "      <th>697</th>\n",
        "      <td>  4</td>\n",
        "      <td>  8</td>\n",
        "      <td>  6</td>\n",
        "      <td>  4</td>\n",
        "      <td> 3</td>\n",
        "      <td>  4</td>\n",
        "      <td> 10</td>\n",
        "      <td>  6</td>\n",
        "      <td> 1</td>\n",
        "    </tr>\n",
        "    <tr>\n",
        "      <th>698</th>\n",
        "      <td>  4</td>\n",
        "      <td>  8</td>\n",
        "      <td>  8</td>\n",
        "      <td>  5</td>\n",
        "      <td> 4</td>\n",
        "      <td>  5</td>\n",
        "      <td> 10</td>\n",
        "      <td>  4</td>\n",
        "      <td> 1</td>\n",
        "    </tr>\n",
        "  </tbody>\n",
        "</table>\n",
        "<p>699 rows \u00d7 9 columns</p>\n",
        "</div>"
       ],
       "metadata": {},
       "output_type": "pyout",
       "prompt_number": 41,
       "text": [
        "     clump_thickness  uniformity_of_cell_size  uniformity_of_cell_shape  \\\n",
        "0                  5                        1                         1   \n",
        "1                  5                        4                         4   \n",
        "2                  3                        1                         1   \n",
        "3                  6                        8                         8   \n",
        "4                  4                        1                         1   \n",
        "5                  8                       10                        10   \n",
        "6                  1                        1                         1   \n",
        "7                  2                        1                         2   \n",
        "8                  2                        1                         1   \n",
        "9                  4                        2                         1   \n",
        "10                 1                        1                         1   \n",
        "11                 2                        1                         1   \n",
        "12                 5                        3                         3   \n",
        "13                 1                        1                         1   \n",
        "14                 8                        7                         5   \n",
        "15                 7                        4                         6   \n",
        "16                 4                        1                         1   \n",
        "17                 4                        1                         1   \n",
        "18                10                        7                         7   \n",
        "19                 6                        1                         1   \n",
        "20                 7                        3                         2   \n",
        "21                10                        5                         5   \n",
        "22                 3                        1                         1   \n",
        "23                 8                        4                         5   \n",
        "24                 1                        1                         1   \n",
        "25                 5                        2                         3   \n",
        "26                 3                        2                         1   \n",
        "27                 5                        1                         1   \n",
        "28                 2                        1                         1   \n",
        "29                 1                        1                         3   \n",
        "..               ...                      ...                       ...   \n",
        "669                5                       10                        10   \n",
        "670                3                       10                         7   \n",
        "671                3                        2                         1   \n",
        "672                2                        1                         1   \n",
        "673                5                        3                         2   \n",
        "674                1                        1                         1   \n",
        "675                4                        1                         4   \n",
        "676                1                        1                         2   \n",
        "677                5                        1                         1   \n",
        "678                1                        1                         1   \n",
        "679                2                        1                         1   \n",
        "680               10                       10                        10   \n",
        "681                5                       10                        10   \n",
        "682                5                        1                         1   \n",
        "683                1                        1                         1   \n",
        "684                1                        1                         1   \n",
        "685                1                        1                         1   \n",
        "686                1                        1                         1   \n",
        "687                3                        1                         1   \n",
        "688                4                        1                         1   \n",
        "689                1                        1                         1   \n",
        "690                1                        1                         1   \n",
        "691                5                       10                        10   \n",
        "692                3                        1                         1   \n",
        "693                3                        1                         1   \n",
        "694                3                        1                         1   \n",
        "695                2                        1                         1   \n",
        "696                5                       10                        10   \n",
        "697                4                        8                         6   \n",
        "698                4                        8                         8   \n",
        "\n",
        "     marginal_adhesion  epithelial_cell_size  bare_nuclei  bland_chromatin  \\\n",
        "0                    1                     2            1                3   \n",
        "1                    5                     7           10                3   \n",
        "2                    1                     2            2                3   \n",
        "3                    1                     3            4                3   \n",
        "4                    3                     2            1                3   \n",
        "5                    8                     7           10                9   \n",
        "6                    1                     2           10                3   \n",
        "7                    1                     2            1                3   \n",
        "8                    1                     2            1                1   \n",
        "9                    1                     2            1                2   \n",
        "10                   1                     1            1                3   \n",
        "11                   1                     2            1                2   \n",
        "12                   3                     2            3                4   \n",
        "13                   1                     2            3                3   \n",
        "14                  10                     7            9                5   \n",
        "15                   4                     6            1                4   \n",
        "16                   1                     2            1                2   \n",
        "17                   1                     2            1                3   \n",
        "18                   6                     4           10                4   \n",
        "19                   1                     2            1                3   \n",
        "20                  10                     5           10                5   \n",
        "21                   3                     6            7                7   \n",
        "22                   1                     2            1                2   \n",
        "23                   1                     2           -1                7   \n",
        "24                   1                     2            1                3   \n",
        "25                   4                     2            7                3   \n",
        "26                   1                     1            1                2   \n",
        "27                   1                     2            1                2   \n",
        "28                   1                     2            1                2   \n",
        "29                   1                     2            1                1   \n",
        "..                 ...                   ...          ...              ...   \n",
        "669                  8                     5            5                7   \n",
        "670                  8                     5            8                7   \n",
        "671                  2                     2            1                3   \n",
        "672                  1                     2            1                3   \n",
        "673                  1                     3            1                1   \n",
        "674                  1                     2            1                2   \n",
        "675                  1                     2            1                1   \n",
        "676                  1                     2            1                2   \n",
        "677                  1                     2            1                1   \n",
        "678                  1                     2            1                1   \n",
        "679                  1                     2            1                1   \n",
        "680                 10                     5           10               10   \n",
        "681                 10                     4           10                5   \n",
        "682                  1                     2            1                3   \n",
        "683                  1                     2            1                1   \n",
        "684                  1                     2            1                1   \n",
        "685                  1                     2            1                1   \n",
        "686                  1                     2            1                1   \n",
        "687                  1                     2            1                2   \n",
        "688                  1                     2            1                1   \n",
        "689                  1                     2            1                1   \n",
        "690                  3                     2            1                1   \n",
        "691                  5                     4            5                4   \n",
        "692                  1                     2            1                1   \n",
        "693                  1                     2            1                2   \n",
        "694                  1                     3            2                1   \n",
        "695                  1                     2            1                1   \n",
        "696                  3                     7            3                8   \n",
        "697                  4                     3            4               10   \n",
        "698                  5                     4            5               10   \n",
        "\n",
        "     normal_nucleoli  mitoses  \n",
        "0                  1        1  \n",
        "1                  2        1  \n",
        "2                  1        1  \n",
        "3                  7        1  \n",
        "4                  1        1  \n",
        "5                  7        1  \n",
        "6                  1        1  \n",
        "7                  1        1  \n",
        "8                  1        5  \n",
        "9                  1        1  \n",
        "10                 1        1  \n",
        "11                 1        1  \n",
        "12                 4        1  \n",
        "13                 1        1  \n",
        "14                 5        4  \n",
        "15                 3        1  \n",
        "16                 1        1  \n",
        "17                 1        1  \n",
        "18                 1        2  \n",
        "19                 1        1  \n",
        "20                 4        4  \n",
        "21                10        1  \n",
        "22                 1        1  \n",
        "23                 3        1  \n",
        "24                 1        1  \n",
        "25                 6        1  \n",
        "26                 1        1  \n",
        "27                 1        1  \n",
        "28                 1        1  \n",
        "29                 1        1  \n",
        "..               ...      ...  \n",
        "669               10        1  \n",
        "670                4        1  \n",
        "671                1        1  \n",
        "672                1        1  \n",
        "673                1        1  \n",
        "674                1        1  \n",
        "675                1        1  \n",
        "676                1        1  \n",
        "677                1        1  \n",
        "678                1        1  \n",
        "679                1        1  \n",
        "680               10        7  \n",
        "681                6        3  \n",
        "682                2        1  \n",
        "683                1        1  \n",
        "684                1        1  \n",
        "685                1        1  \n",
        "686                1        1  \n",
        "687                3        1  \n",
        "688                1        1  \n",
        "689                1        8  \n",
        "690                1        1  \n",
        "691                4        1  \n",
        "692                1        1  \n",
        "693                1        2  \n",
        "694                1        1  \n",
        "695                1        1  \n",
        "696               10        2  \n",
        "697                6        1  \n",
        "698                4        1  \n",
        "\n",
        "[699 rows x 9 columns]"
       ]
      }
     ],
     "prompt_number": 41
    },
    {
     "cell_type": "code",
     "collapsed": false,
     "input": [
      "# Look at all the columns in the dataset\n",
      "def printall(X, max_rows=10):\n",
      "    from IPython.display import display, HTML\n",
      "    display(HTML(X.to_html(max_rows=max_rows)))\n",
      "    \n",
      "printall(X)"
     ],
     "language": "python",
     "metadata": {},
     "outputs": [
      {
       "html": [
        "<table border=\"1\" class=\"dataframe\">\n",
        "  <thead>\n",
        "    <tr style=\"text-align: right;\">\n",
        "      <th></th>\n",
        "      <th>clump_thickness</th>\n",
        "      <th>uniformity_of_cell_size</th>\n",
        "      <th>uniformity_of_cell_shape</th>\n",
        "      <th>marginal_adhesion</th>\n",
        "      <th>epithelial_cell_size</th>\n",
        "      <th>bare_nuclei</th>\n",
        "      <th>bland_chromatin</th>\n",
        "      <th>normal_nucleoli</th>\n",
        "      <th>mitoses</th>\n",
        "    </tr>\n",
        "  </thead>\n",
        "  <tbody>\n",
        "    <tr>\n",
        "      <th>0  </th>\n",
        "      <td> 5</td>\n",
        "      <td>  1</td>\n",
        "      <td>  1</td>\n",
        "      <td> 1</td>\n",
        "      <td> 2</td>\n",
        "      <td>  1</td>\n",
        "      <td>  3</td>\n",
        "      <td>  1</td>\n",
        "      <td> 1</td>\n",
        "    </tr>\n",
        "    <tr>\n",
        "      <th>1  </th>\n",
        "      <td> 5</td>\n",
        "      <td>  4</td>\n",
        "      <td>  4</td>\n",
        "      <td> 5</td>\n",
        "      <td> 7</td>\n",
        "      <td> 10</td>\n",
        "      <td>  3</td>\n",
        "      <td>  2</td>\n",
        "      <td> 1</td>\n",
        "    </tr>\n",
        "    <tr>\n",
        "      <th>2  </th>\n",
        "      <td> 3</td>\n",
        "      <td>  1</td>\n",
        "      <td>  1</td>\n",
        "      <td> 1</td>\n",
        "      <td> 2</td>\n",
        "      <td>  2</td>\n",
        "      <td>  3</td>\n",
        "      <td>  1</td>\n",
        "      <td> 1</td>\n",
        "    </tr>\n",
        "    <tr>\n",
        "      <th>3  </th>\n",
        "      <td> 6</td>\n",
        "      <td>  8</td>\n",
        "      <td>  8</td>\n",
        "      <td> 1</td>\n",
        "      <td> 3</td>\n",
        "      <td>  4</td>\n",
        "      <td>  3</td>\n",
        "      <td>  7</td>\n",
        "      <td> 1</td>\n",
        "    </tr>\n",
        "    <tr>\n",
        "      <th>4  </th>\n",
        "      <td> 4</td>\n",
        "      <td>  1</td>\n",
        "      <td>  1</td>\n",
        "      <td> 3</td>\n",
        "      <td> 2</td>\n",
        "      <td>  1</td>\n",
        "      <td>  3</td>\n",
        "      <td>  1</td>\n",
        "      <td> 1</td>\n",
        "    </tr>\n",
        "    <tr>\n",
        "      <th>...</th>\n",
        "      <td>...</td>\n",
        "      <td>...</td>\n",
        "      <td>...</td>\n",
        "      <td>...</td>\n",
        "      <td>...</td>\n",
        "      <td>...</td>\n",
        "      <td>...</td>\n",
        "      <td>...</td>\n",
        "      <td>...</td>\n",
        "    </tr>\n",
        "    <tr>\n",
        "      <th>694</th>\n",
        "      <td> 3</td>\n",
        "      <td>  1</td>\n",
        "      <td>  1</td>\n",
        "      <td> 1</td>\n",
        "      <td> 3</td>\n",
        "      <td>  2</td>\n",
        "      <td>  1</td>\n",
        "      <td>  1</td>\n",
        "      <td> 1</td>\n",
        "    </tr>\n",
        "    <tr>\n",
        "      <th>695</th>\n",
        "      <td> 2</td>\n",
        "      <td>  1</td>\n",
        "      <td>  1</td>\n",
        "      <td> 1</td>\n",
        "      <td> 2</td>\n",
        "      <td>  1</td>\n",
        "      <td>  1</td>\n",
        "      <td>  1</td>\n",
        "      <td> 1</td>\n",
        "    </tr>\n",
        "    <tr>\n",
        "      <th>696</th>\n",
        "      <td> 5</td>\n",
        "      <td> 10</td>\n",
        "      <td> 10</td>\n",
        "      <td> 3</td>\n",
        "      <td> 7</td>\n",
        "      <td>  3</td>\n",
        "      <td>  8</td>\n",
        "      <td> 10</td>\n",
        "      <td> 2</td>\n",
        "    </tr>\n",
        "    <tr>\n",
        "      <th>697</th>\n",
        "      <td> 4</td>\n",
        "      <td>  8</td>\n",
        "      <td>  6</td>\n",
        "      <td> 4</td>\n",
        "      <td> 3</td>\n",
        "      <td>  4</td>\n",
        "      <td> 10</td>\n",
        "      <td>  6</td>\n",
        "      <td> 1</td>\n",
        "    </tr>\n",
        "    <tr>\n",
        "      <th>698</th>\n",
        "      <td> 4</td>\n",
        "      <td>  8</td>\n",
        "      <td>  8</td>\n",
        "      <td> 5</td>\n",
        "      <td> 4</td>\n",
        "      <td>  5</td>\n",
        "      <td> 10</td>\n",
        "      <td>  4</td>\n",
        "      <td> 1</td>\n",
        "    </tr>\n",
        "  </tbody>\n",
        "</table>"
       ],
       "metadata": {},
       "output_type": "display_data",
       "text": [
        "<IPython.core.display.HTML at 0x1094ead90>"
       ]
      }
     ],
     "prompt_number": 42
    },
    {
     "cell_type": "code",
     "collapsed": false,
     "input": [
      "#remember to scale our features, as with linear regression\n",
      "from sklearn.cross_validation import train_test_split\n",
      "from sklearn.preprocessing import StandardScaler\n",
      "scaler = StandardScaler()\n",
      "X= scaler.fit_transform(X)"
     ],
     "language": "python",
     "metadata": {},
     "outputs": [],
     "prompt_number": 43
    },
    {
     "cell_type": "code",
     "collapsed": false,
     "input": [
      "X_train, X_test, y_train, y_test = train_test_split(X, y, test_size=0.2, random_state=42)"
     ],
     "language": "python",
     "metadata": {},
     "outputs": [],
     "prompt_number": 44
    },
    {
     "cell_type": "code",
     "collapsed": false,
     "input": [
      "from sklearn.linear_model import LogisticRegression\n",
      "from sklearn.metrics import accuracy_score\n",
      "model = LogisticRegression(penalty='l2', C=1)"
     ],
     "language": "python",
     "metadata": {},
     "outputs": [],
     "prompt_number": 45
    },
    {
     "cell_type": "code",
     "collapsed": false,
     "input": [
      "model.fit(X_train, y_train)"
     ],
     "language": "python",
     "metadata": {},
     "outputs": [
      {
       "metadata": {},
       "output_type": "pyout",
       "prompt_number": 46,
       "text": [
        "LogisticRegression(C=1, class_weight=None, dual=False, fit_intercept=True,\n",
        "          intercept_scaling=1, penalty='l2', random_state=None, tol=0.0001)"
       ]
      }
     ],
     "prompt_number": 46
    },
    {
     "cell_type": "code",
     "collapsed": false,
     "input": [
      "print \"Logistic accuracy is %2.2f\" % accuracy_score(y_test,model.predict(X_test))"
     ],
     "language": "python",
     "metadata": {},
     "outputs": [
      {
       "output_type": "stream",
       "stream": "stdout",
       "text": [
        "Logistic accuracy is 0.97\n"
       ]
      }
     ],
     "prompt_number": 47
    },
    {
     "cell_type": "code",
     "collapsed": false,
     "input": [
      "model = RandomForestClassifier(100, n_jobs=-1, random_state=42)\n",
      "model.fit(X, y)\n",
      "print \"C-stat: \", roc_auc_score(y_test, model.predict_proba(X_test)[:,1])"
     ],
     "language": "python",
     "metadata": {},
     "outputs": [
      {
       "output_type": "stream",
       "stream": "stdout",
       "text": [
        "C-stat:  "
       ]
      },
      {
       "output_type": "stream",
       "stream": "stdout",
       "text": [
        "1.0\n"
       ]
      }
     ],
     "prompt_number": 48
    },
    {
     "cell_type": "heading",
     "level": 3,
     "metadata": {},
     "source": [
      "Variable importance measures"
     ]
    },
    {
     "cell_type": "heading",
     "level": 2,
     "metadata": {},
     "source": [
      "Parameter tests"
     ]
    },
    {
     "cell_type": "markdown",
     "metadata": {},
     "source": [
      "Parameters to test\n",
      "\n",
      " * ###Parameters that will make your model better\n",
      "  * <b>n_estimators</b>: The number of trees in the forest. Choose as high of a number as your computer can handle.\n",
      "  * <b>max_features</b>: The number of features to consider when looking for the best split. Try [\"auto\", \"None\", \"sqrt\", \"log2\", 0.9, and 0.2]\n",
      "  * <b>min_samples_leaf</b>: The minimum number of samples in newly created leaves.Try [1, 2, 3]. If 3 is the best, try higher numbers such as 1 through 10.\n",
      " * ###Parameters that will make it easier to train your model\n",
      "  * <b>n_jobs</b>: Determines if multiple processors should be used to train and test the model. Always set this to -1 and %%timeit vs. if it is set to 1. It should be much faster (especially when many trees are trained)."
     ]
    },
    {
     "cell_type": "heading",
     "level": 3,
     "metadata": {},
     "source": [
      "n_jobs"
     ]
    },
    {
     "cell_type": "code",
     "collapsed": false,
     "input": [
      "%%timeit\n",
      "model = RandomForestClassifier(1000, n_jobs=1, random_state=42)\n",
      "model.fit(X, y)"
     ],
     "language": "python",
     "metadata": {},
     "outputs": [
      {
       "output_type": "stream",
       "stream": "stdout",
       "text": [
        "1 loops, best of 3: 716 ms per loop\n"
       ]
      }
     ],
     "prompt_number": 51
    },
    {
     "cell_type": "code",
     "collapsed": false,
     "input": [
      "%%timeit\n",
      "model = RandomForestClassifier(1000, n_jobs=-1, random_state=42)\n",
      "model.fit(X, y)"
     ],
     "language": "python",
     "metadata": {},
     "outputs": [
      {
       "output_type": "stream",
       "stream": "stdout",
       "text": [
        "1 loops, best of 3: 842 ms per loop\n"
       ]
      }
     ],
     "prompt_number": 52
    },
    {
     "cell_type": "heading",
     "level": 3,
     "metadata": {},
     "source": [
      "n_estimators"
     ]
    },
    {
     "cell_type": "code",
     "collapsed": false,
     "input": [
      "results = []\n",
      "n_estimator_options = [30, 50, 100, 200, 500, 1000, 2000]\n",
      "\n",
      "for trees in n_estimator_options:\n",
      "    model = RandomForestClassifier(trees, n_jobs=-1, random_state=42)\n",
      "    model.fit(X, y)\n",
      "    print trees, \"trees\"\n",
      "    roc = roc_auc_score(y_test, model.predict_proba(X_test)[:,1])\n",
      "    print \"C-stat: \", roc\n",
      "    results.append(roc)\n",
      "    print \"\"\n",
      "    \n",
      "pd.Series(results, n_estimator_options).plot();"
     ],
     "language": "python",
     "metadata": {},
     "outputs": [
      {
       "output_type": "stream",
       "stream": "stdout",
       "text": [
        "30 trees\n",
        "C-stat: "
       ]
      },
      {
       "output_type": "stream",
       "stream": "stdout",
       "text": [
        " 1.0\n",
        "\n",
        "50"
       ]
      },
      {
       "output_type": "stream",
       "stream": "stdout",
       "text": [
        " trees\n",
        "C-stat: "
       ]
      },
      {
       "output_type": "stream",
       "stream": "stdout",
       "text": [
        " 1.0\n",
        "\n",
        "100"
       ]
      },
      {
       "output_type": "stream",
       "stream": "stdout",
       "text": [
        " trees\n",
        "C-stat: "
       ]
      },
      {
       "output_type": "stream",
       "stream": "stdout",
       "text": [
        " 1.0\n",
        "\n",
        "200"
       ]
      },
      {
       "output_type": "stream",
       "stream": "stdout",
       "text": [
        " trees\n",
        "C-stat: "
       ]
      },
      {
       "output_type": "stream",
       "stream": "stdout",
       "text": [
        " 1.0\n",
        "\n",
        "500"
       ]
      },
      {
       "output_type": "stream",
       "stream": "stdout",
       "text": [
        " trees\n",
        "C-stat: "
       ]
      },
      {
       "output_type": "stream",
       "stream": "stdout",
       "text": [
        " 1.0\n",
        "\n",
        "1000"
       ]
      },
      {
       "output_type": "stream",
       "stream": "stdout",
       "text": [
        " trees\n",
        "C-stat: "
       ]
      },
      {
       "output_type": "stream",
       "stream": "stdout",
       "text": [
        " 1.0\n",
        "\n",
        "2000"
       ]
      },
      {
       "output_type": "stream",
       "stream": "stdout",
       "text": [
        " trees\n",
        "C-stat: "
       ]
      },
      {
       "output_type": "stream",
       "stream": "stdout",
       "text": [
        " 1.0\n",
        "\n"
       ]
      },
      {
       "metadata": {},
       "output_type": "display_data",
       "png": "[encoded data removed]",
       "text": [
        "<matplotlib.figure.Figure at 0x10a833a10>"
       ]
      }
     ],
     "prompt_number": 53
    },
    {
     "cell_type": "heading",
     "level": 3,
     "metadata": {},
     "source": [
      "max_features"
     ]
    },
    {
     "cell_type": "code",
     "collapsed": false,
     "input": [
      "results = []\n",
      "max_features_options = [\"auto\", None, \"sqrt\", \"log2\", 0.9, 0.2]\n",
      "\n",
      "for max_features in max_features_options:\n",
      "    model = RandomForestClassifier(n_estimators=1000, n_jobs=-1, random_state=42, max_features=max_features)\n",
      "    model.fit(X, y)\n",
      "    print max_features, \"option\"\n",
      "    roc =  roc_auc_score(y_test, model.predict_proba(X_test)[:,1])\n",
      "    print \"C-stat: \", roc\n",
      "    results.append(roc)\n",
      "    print \"\"\n",
      "    \n",
      "pd.Series(results, max_features_options).plot(kind=\"barh\", xlim=(.991,.995));"
     ],
     "language": "python",
     "metadata": {},
     "outputs": [
      {
       "output_type": "stream",
       "stream": "stdout",
       "text": [
        "auto option\n",
        "C-stat: "
       ]
      },
      {
       "output_type": "stream",
       "stream": "stdout",
       "text": [
        " 1.0\n",
        "\n",
        "None"
       ]
      },
      {
       "output_type": "stream",
       "stream": "stdout",
       "text": [
        " option\n",
        "C-stat: "
       ]
      },
      {
       "output_type": "stream",
       "stream": "stdout",
       "text": [
        " 1.0\n",
        "\n",
        "sqrt"
       ]
      },
      {
       "output_type": "stream",
       "stream": "stdout",
       "text": [
        " option\n",
        "C-stat: "
       ]
      },
      {
       "output_type": "stream",
       "stream": "stdout",
       "text": [
        " 1.0\n",
        "\n",
        "log2"
       ]
      },
      {
       "output_type": "stream",
       "stream": "stdout",
       "text": [
        " option\n",
        "C-stat: "
       ]
      },
      {
       "output_type": "stream",
       "stream": "stdout",
       "text": [
        " 1.0\n",
        "\n",
        "0.9"
       ]
      },
      {
       "output_type": "stream",
       "stream": "stdout",
       "text": [
        " option\n",
        "C-stat: "
       ]
      },
      {
       "output_type": "stream",
       "stream": "stdout",
       "text": [
        " 1.0\n",
        "\n",
        "0.2"
       ]
      },
      {
       "output_type": "stream",
       "stream": "stdout",
       "text": [
        " option\n",
        "C-stat: "
       ]
      },
      {
       "output_type": "stream",
       "stream": "stdout",
       "text": [
        " 1.0\n",
        "\n"
       ]
      },
      {
       "metadata": {},
       "output_type": "display_data",
       "png": "[encoded data removed]",
       "text": [
        "<matplotlib.figure.Figure at 0x1095c3ad0>"
       ]
      }
     ],
     "prompt_number": 54
    },
    {
     "cell_type": "heading",
     "level": 3,
     "metadata": {},
     "source": [
      "min_samples_leaf"
     ]
    },
    {
     "cell_type": "code",
     "collapsed": false,
     "input": [
      "results = []\n",
      "min_samples_leaf_options = [1, 2, 3, 4, 5, 6, 7, 8, 9, 10]\n",
      "\n",
      "for min_samples in min_samples_leaf_options:\n",
      "    model = RandomForestClassifier(n_estimators=30,  \n",
      "                                  n_jobs=-1, \n",
      "                                  random_state=42, \n",
      "                                  max_features=0.2, \n",
      "                                  min_samples_leaf=min_samples)\n",
      "    model.fit(X, y)\n",
      "    print min_samples, \"min samples\"\n",
      "    roc = roc_auc_score(y_test, model.predict_proba(X_test)[:,1])\n",
      "    print \"C-stat: \", roc\n",
      "    results.append(roc)\n",
      "    print \"\"\n",
      "    \n",
      "pd.Series(results, min_samples_leaf_options).plot();"
     ],
     "language": "python",
     "metadata": {},
     "outputs": [
      {
       "output_type": "stream",
       "stream": "stdout",
       "text": [
        "1 min samples\n",
        "C-stat: "
       ]
      },
      {
       "output_type": "stream",
       "stream": "stdout",
       "text": [
        " 1.0\n",
        "\n",
        "2"
       ]
      },
      {
       "output_type": "stream",
       "stream": "stdout",
       "text": [
        " min samples\n",
        "C-stat: "
       ]
      },
      {
       "output_type": "stream",
       "stream": "stdout",
       "text": [
        " 1.0\n",
        "\n",
        "3"
       ]
      },
      {
       "output_type": "stream",
       "stream": "stdout",
       "text": [
        " min samples\n",
        "C-stat: "
       ]
      },
      {
       "output_type": "stream",
       "stream": "stdout",
       "text": [
        " 0.999532163743\n",
        "\n",
        "4"
       ]
      },
      {
       "output_type": "stream",
       "stream": "stdout",
       "text": [
        " min samples\n",
        "C-stat: "
       ]
      },
      {
       "output_type": "stream",
       "stream": "stdout",
       "text": [
        " 0.999064327485\n",
        "\n",
        "5"
       ]
      },
      {
       "output_type": "stream",
       "stream": "stdout",
       "text": [
        " min samples\n",
        "C-stat: "
       ]
      },
      {
       "output_type": "stream",
       "stream": "stdout",
       "text": [
        " 0.998362573099\n",
        "\n",
        "6"
       ]
      },
      {
       "output_type": "stream",
       "stream": "stdout",
       "text": [
        " min samples\n",
        "C-stat: "
       ]
      },
      {
       "output_type": "stream",
       "stream": "stdout",
       "text": [
        " 0.997660818713\n",
        "\n",
        "7"
       ]
      },
      {
       "output_type": "stream",
       "stream": "stdout",
       "text": [
        " min samples\n",
        "C-stat: "
       ]
      },
      {
       "output_type": "stream",
       "stream": "stdout",
       "text": [
        " 0.996257309942\n",
        "\n",
        "8"
       ]
      },
      {
       "output_type": "stream",
       "stream": "stdout",
       "text": [
        " min samples\n",
        "C-stat: "
       ]
      },
      {
       "output_type": "stream",
       "stream": "stdout",
       "text": [
        " 0.99649122807\n",
        "\n",
        "9"
       ]
      },
      {
       "output_type": "stream",
       "stream": "stdout",
       "text": [
        " min samples\n",
        "C-stat: "
       ]
      },
      {
       "output_type": "stream",
       "stream": "stdout",
       "text": [
        " 0.996023391813\n",
        "\n",
        "10"
       ]
      },
      {
       "output_type": "stream",
       "stream": "stdout",
       "text": [
        " min samples\n",
        "C-stat: "
       ]
      },
      {
       "output_type": "stream",
       "stream": "stdout",
       "text": [
        " 0.996023391813\n",
        "\n"
       ]
      },
      {
       "metadata": {},
       "output_type": "display_data",
       "png": "[encoded data removed]",
       "text": [
        "<matplotlib.figure.Figure at 0x1094fe790>"
       ]
      }
     ],
     "prompt_number": 55
    },
    {
     "cell_type": "heading",
     "level": 2,
     "metadata": {},
     "source": [
      "Final model"
     ]
    },
    {
     "cell_type": "code",
     "collapsed": false,
     "input": [
      "model = RandomForestClassifier(n_estimators=30,\n",
      "                              n_jobs=-1, \n",
      "                              random_state=42, \n",
      "                              max_features=0.2, \n",
      "                              min_samples_leaf=2)\n",
      "model.fit(X, y)\n",
      "roc = roc_auc_score(y_test, model.predict_proba(X_test)[:,1])\n",
      "print \"C-stat: \", roc"
     ],
     "language": "python",
     "metadata": {},
     "outputs": [
      {
       "output_type": "stream",
       "stream": "stdout",
       "text": [
        "C-stat:  1.0\n"
       ]
      }
     ],
     "prompt_number": 56
    },
    {
     "cell_type": "code",
     "collapsed": false,
     "input": [
      "logit_roc_auc = roc_auc_score(y_test, model.predict(X_test))\n",
      "print \"Logistic AUC = %2.2f\" % logit_roc_auc\n",
      "print classification_report(y_test, model.predict(X_test) )"
     ],
     "language": "python",
     "metadata": {},
     "outputs": [
      {
       "output_type": "stream",
       "stream": "stdout",
       "text": [
        "Logistic AUC = 0.99\n",
        "             precision    recall  f1-score   support\n",
        "\n",
        "          0       1.00      0.99      0.99        95\n",
        "          1       0.98      1.00      0.99        45\n",
        "\n",
        "avg / total       0.99      0.99      0.99       140\n"
       ]
      },
      {
       "output_type": "stream",
       "stream": "stdout",
       "text": [
        "\n"
       ]
      }
     ],
     "prompt_number": 57
    },
    {
     "cell_type": "code",
     "collapsed": false,
     "input": [
      "### Grid Search\n",
      "from sklearn.grid_search import GridSearchCV\n",
      "n_estimators = [300,400,500]\n",
      "max_features = ['auto', 'sqrt','log2']\n",
      "min_samples_split = [3,5,7]\n",
      "\n",
      "\n",
      "rfc = RandomForestClassifier(n_jobs=1)\n",
      "#Parameters of pipelines can be set using \u2018__\u2019 separated parameter names:\n",
      "estimator = GridSearchCV(rfc,\n",
      "                         dict(n_estimators=n_estimators,\n",
      "                              max_features=max_features,\n",
      "                              min_samples_split=min_samples_split\n",
      "                              ), cv=None, n_jobs=-1)"
     ],
     "language": "python",
     "metadata": {},
     "outputs": [],
     "prompt_number": 61
    },
    {
     "cell_type": "code",
     "collapsed": false,
     "input": [
      "estimator.fit(X_train, y_train)"
     ],
     "language": "python",
     "metadata": {},
     "outputs": [
      {
       "metadata": {},
       "output_type": "pyout",
       "prompt_number": 62,
       "text": [
        "GridSearchCV(cv=None,\n",
        "       estimator=RandomForestClassifier(bootstrap=True, compute_importances=None,\n",
        "            criterion='gini', max_depth=None, max_features='auto',\n",
        "            max_leaf_nodes=None, min_density=None, min_samples_leaf=1,\n",
        "            min_samples_split=2, n_estimators=10, n_jobs=1,\n",
        "            oob_score=False, random_state=None, verbose=0),\n",
        "       fit_params={}, iid=True, loss_func=None, n_jobs=-1,\n",
        "       param_grid={'min_samples_split': [3, 5, 7], 'max_features': ['auto', 'sqrt', 'log2'], 'n_estimators': [300, 400, 500]},\n",
        "       pre_dispatch='2*n_jobs', refit=True, score_func=None, scoring=None,\n",
        "       verbose=0)"
       ]
      }
     ],
     "prompt_number": 62
    },
    {
     "cell_type": "code",
     "collapsed": false,
     "input": [
      "estimator.best_estimator_"
     ],
     "language": "python",
     "metadata": {},
     "outputs": [
      {
       "metadata": {},
       "output_type": "pyout",
       "prompt_number": 63,
       "text": [
        "RandomForestClassifier(bootstrap=True, compute_importances=None,\n",
        "            criterion='gini', max_depth=None, max_features='auto',\n",
        "            max_leaf_nodes=None, min_density=None, min_samples_leaf=1,\n",
        "            min_samples_split=3, n_estimators=300, n_jobs=1,\n",
        "            oob_score=False, random_state=None, verbose=0)"
       ]
      }
     ],
     "prompt_number": 63
    },
    {
     "cell_type": "code",
     "collapsed": false,
     "input": [
      "best_rfc = estimator.best_estimator_"
     ],
     "language": "python",
     "metadata": {},
     "outputs": [],
     "prompt_number": 65
    },
    {
     "cell_type": "markdown",
     "metadata": {},
     "source": [
      "###Accuracy"
     ]
    },
    {
     "cell_type": "code",
     "collapsed": false,
     "input": [
      "accuracy = accuracy_score(y_test, best_rfc.predict(X_test))\n",
      "print \"Accuracy: \", accuracy"
     ],
     "language": "python",
     "metadata": {},
     "outputs": [
      {
       "output_type": "stream",
       "stream": "stdout",
       "text": [
        "Accuracy:  0.971428571429\n"
       ]
      }
     ],
     "prompt_number": 71
    },
    {
     "cell_type": "code",
     "collapsed": false,
     "input": [
      "y_hat = best_rfc.predict(X_test)"
     ],
     "language": "python",
     "metadata": {},
     "outputs": [],
     "prompt_number": 72
    },
    {
     "cell_type": "code",
     "collapsed": false,
     "input": [
      "y_hat"
     ],
     "language": "python",
     "metadata": {},
     "outputs": [
      {
       "metadata": {},
       "output_type": "pyout",
       "prompt_number": 73,
       "text": [
        "array([0, 0, 0, 1, 0, 0, 0, 1, 1, 0, 0, 1, 0, 0, 0, 1, 0, 1, 1, 1, 1, 0, 1,\n",
        "       0, 1, 0, 0, 1, 0, 1, 0, 0, 0, 1, 0, 0, 0, 1, 0, 1, 0, 0, 1, 0, 0, 0,\n",
        "       0, 1, 0, 0, 0, 0, 1, 0, 0, 0, 0, 1, 0, 0, 0, 0, 1, 0, 0, 0, 1, 1, 0,\n",
        "       0, 1, 0, 1, 0, 0, 0, 0, 1, 0, 0, 0, 0, 0, 0, 0, 1, 1, 0, 0, 0, 0, 0,\n",
        "       1, 0, 0, 1, 0, 0, 0, 0, 0, 0, 0, 1, 1, 0, 1, 0, 0, 1, 1, 0, 0, 1, 0,\n",
        "       1, 0, 0, 0, 0, 0, 1, 0, 0, 1, 1, 0, 0, 1, 1, 0, 0, 1, 0, 1, 0, 1, 0,\n",
        "       0, 0])"
       ]
      }
     ],
     "prompt_number": 73
    },
    {
     "cell_type": "code",
     "collapsed": false,
     "input": [
      "y_test"
     ],
     "language": "python",
     "metadata": {},
     "outputs": [
      {
       "metadata": {},
       "output_type": "pyout",
       "prompt_number": 74,
       "text": [
        "array([0, 0, 0, 1, 0, 0, 0, 1, 1, 1, 0, 1, 0, 0, 0, 1, 0, 1, 1, 1, 1, 0, 1,\n",
        "       0, 1, 0, 0, 1, 0, 1, 0, 0, 0, 1, 0, 0, 0, 1, 0, 1, 0, 0, 1, 0, 0, 0,\n",
        "       0, 0, 0, 0, 0, 0, 1, 0, 1, 0, 0, 1, 0, 0, 0, 0, 1, 0, 0, 0, 1, 1, 0,\n",
        "       0, 1, 0, 1, 0, 0, 0, 0, 1, 0, 0, 0, 0, 0, 0, 0, 1, 1, 0, 0, 0, 0, 0,\n",
        "       1, 0, 0, 1, 0, 0, 0, 0, 0, 0, 0, 1, 1, 0, 1, 0, 0, 1, 0, 0, 0, 1, 0,\n",
        "       1, 0, 0, 0, 0, 0, 1, 0, 0, 1, 1, 0, 0, 1, 1, 0, 0, 1, 0, 1, 0, 1, 0,\n",
        "       0, 0])"
       ]
      }
     ],
     "prompt_number": 74
    },
    {
     "cell_type": "code",
     "collapsed": false,
     "input": [
      "correct = 0\n",
      "total = y_test.shape[0]\n",
      "for pred_val, truth_val in zip(y_hat, y_test):\n",
      "    if pred_val == truth_val:\n",
      "        correct +=1\n",
      "\n",
      "print correct / float(total)"
     ],
     "language": "python",
     "metadata": {},
     "outputs": [
      {
       "output_type": "stream",
       "stream": "stdout",
       "text": [
        "0.971428571429\n"
       ]
      }
     ],
     "prompt_number": 75
    },
    {
     "cell_type": "markdown",
     "metadata": {},
     "source": [
      "###Precision and Recall"
     ]
    },
    {
     "cell_type": "code",
     "collapsed": false,
     "input": [
      "print classification_report(y_test, best_rfc.predict(X_test))"
     ],
     "language": "python",
     "metadata": {},
     "outputs": [
      {
       "output_type": "stream",
       "stream": "stdout",
       "text": [
        "             precision    recall  f1-score   support\n",
        "\n",
        "          0       0.98      0.98      0.98        95\n",
        "          1       0.96      0.96      0.96        45\n",
        "\n",
        "avg / total       0.97      0.97      0.97       140\n",
        "\n"
       ]
      }
     ],
     "prompt_number": 76
    },
    {
     "cell_type": "code",
     "collapsed": false,
     "input": [
      "from sklearn.metrics import confusion_matrix\n",
      "print confusion_matrix(y_test, best_rfc.predict(X_test))"
     ],
     "language": "python",
     "metadata": {},
     "outputs": [
      {
       "output_type": "stream",
       "stream": "stdout",
       "text": [
        "[[93  2]\n",
        " [ 2 43]]\n"
       ]
      }
     ],
     "prompt_number": 78
    },
    {
     "cell_type": "markdown",
     "metadata": {},
     "source": [
      "####Precision = .96\n",
      "####Recall = .96"
     ]
    },
    {
     "cell_type": "code",
     "collapsed": false,
     "input": [
      "roc = roc_auc_score(y_test, best_rfc.predict_proba(X_test)[:,1])\n",
      "print \"AUC Score: \", roc"
     ],
     "language": "python",
     "metadata": {},
     "outputs": [
      {
       "output_type": "stream",
       "stream": "stdout",
       "text": [
        "AUC Score:  0.996023391813\n"
       ]
      }
     ],
     "prompt_number": 79
    },
    {
     "cell_type": "markdown",
     "metadata": {},
     "source": [
      "####K-FOLD CROSS VALIDATION"
     ]
    },
    {
     "cell_type": "code",
     "collapsed": false,
     "input": [
      "from sklearn import cross_validation\n",
      "scores = cross_validation.cross_val_score(best_rfc, X, y, cv=10)"
     ],
     "language": "python",
     "metadata": {},
     "outputs": [],
     "prompt_number": 87
    },
    {
     "cell_type": "code",
     "collapsed": false,
     "input": [
      "scores"
     ],
     "language": "python",
     "metadata": {},
     "outputs": [
      {
       "metadata": {},
       "output_type": "pyout",
       "prompt_number": 88,
       "text": [
        "array([ 0.92957746,  0.98571429,  0.97142857,  0.91428571,  0.97142857,\n",
        "        0.95714286,  0.97142857,  0.98571429,  0.98550725,  1.        ])"
       ]
      }
     ],
     "prompt_number": 88
    },
    {
     "cell_type": "code",
     "collapsed": false,
     "input": [
      "import math\n",
      "mean_score = scores.mean()\n",
      "std_dev = scores.std()\n",
      "std_error = scores.std() / math.sqrt(scores.shape[0])\n",
      "ci =  2.262 * std_error\n",
      "lower_bound = mean_score - ci\n",
      "upper_bound = mean_score + ci\n",
      "\n",
      "print \"Score is %f +/-  %f\" % (mean_score, ci)\n",
      "print '95 percent probability that if this experiment were repeated over and over the average score would be between %f and %f' % (lower_bound, upper_bound)"
     ],
     "language": "python",
     "metadata": {},
     "outputs": [
      {
       "output_type": "stream",
       "stream": "stdout",
       "text": [
        "Score is 0.967223 +/-  0.018190\n",
        "95 percent probability that if this experiment were repeated over and over the average score would be between 0.949033 and 0.985413\n"
       ]
      }
     ],
     "prompt_number": 89
    },
    {
     "cell_type": "code",
     "collapsed": false,
     "input": [],
     "language": "python",
     "metadata": {},
     "outputs": []
    }
   ],
   "metadata": {}
  }
 ]
}