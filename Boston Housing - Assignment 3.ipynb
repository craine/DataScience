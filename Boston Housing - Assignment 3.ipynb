{
 "metadata": {
  "name": "",
  "signature": "sha256:43102f45c979a538052f2d2d5d5ecf4a53633a3a541be51db724692c5fc13bb7"
 },
 "nbformat": 3,
 "nbformat_minor": 0,
 "worksheets": [
  {
   "cells": [
    {
     "cell_type": "code",
     "collapsed": false,
     "input": [
      "from sklearn import datasets\n",
      "import pandas as pd\n",
      "from sklearn.preprocessing import StandardScaler\n",
      "from sklearn.cross_validation import train_test_split\n",
      "from sklearn.metrics import mean_squared_error\n",
      "from sklearn.metrics import r2_score\n",
      "from sklearn.linear_model import LinearRegression"
     ],
     "language": "python",
     "metadata": {},
     "outputs": [],
     "prompt_number": 1
    },
    {
     "cell_type": "markdown",
     "metadata": {},
     "source": [
      "##Charlie notes\n",
      "\n",
      "###RMSE: \n",
      "\u2022Lower values of RMSE indicate better fit. RMSE is a good measure of how accurately the model predicts the response, and is the most important criterion for fit if the main purpose of the model is prediction.\n",
      "\n",
      "###R squared: \n",
      "\u2022The value R2 quantifies goodness of fit.\n",
      "\n",
      "\u2022It is a fraction between 0.0 and 1.0, and has no units. Higher values indicate that the model fits the data better.\n",
      "\n",
      "\u2022When R2 equals 0.0, the best-fit curve fits the data no better than a horizontal line going through the mean of all Y values. In this case, knowing X does not help you predict Y.\n",
      "\n",
      "\u2022When R2=1.0, all points lie exactly on the curve with no scatter. If you know X you can calculate Y exactly.\n",
      "\n",
      "\u2022There is really no general rule of thumb about what values of R2 are high, adequate or low. If you repeat an experiment many times, you will know what values of R2 to expect, and can investigate further when R2 is much lower than the expected value."
     ]
    },
    {
     "cell_type": "code",
     "collapsed": false,
     "input": [
      "bean = datasets.load_boston()\n",
      "print bean.DESCR"
     ],
     "language": "python",
     "metadata": {},
     "outputs": [
      {
       "output_type": "stream",
       "stream": "stdout",
       "text": [
        "Boston House Prices dataset\n",
        "\n",
        "Notes\n",
        "------\n",
        "Data Set Characteristics:  \n",
        "\n",
        "    :Number of Instances: 506 \n",
        "\n",
        "    :Number of Attributes: 13 numeric/categorical predictive\n",
        "    \n",
        "    :Median Value (attribute 14) is usually the target\n",
        "\n",
        "    :Attribute Information (in order):\n",
        "        - CRIM     per capita crime rate by town\n",
        "        - ZN       proportion of residential land zoned for lots over 25,000 sq.ft.\n",
        "        - INDUS    proportion of non-retail business acres per town\n",
        "        - CHAS     Charles River dummy variable (= 1 if tract bounds river; 0 otherwise)\n",
        "        - NOX      nitric oxides concentration (parts per 10 million)\n",
        "        - RM       average number of rooms per dwelling\n",
        "        - AGE      proportion of owner-occupied units built prior to 1940\n",
        "        - DIS      weighted distances to five Boston employment centres\n",
        "        - RAD      index of accessibility to radial highways\n",
        "        - TAX      full-value property-tax rate per $10,000\n",
        "        - PTRATIO  pupil-teacher ratio by town\n",
        "        - B        1000(Bk - 0.63)^2 where Bk is the proportion of blacks by town\n",
        "        - LSTAT    % lower status of the population\n",
        "        - MEDV     Median value of owner-occupied homes in $1000's\n",
        "\n",
        "    :Missing Attribute Values: None\n",
        "\n",
        "    :Creator: Harrison, D. and Rubinfeld, D.L.\n",
        "\n",
        "This is a copy of UCI ML housing dataset.\n",
        "http://archive.ics.uci.edu/ml/datasets/Housing\n",
        "\n",
        "\n",
        "This dataset was taken from the StatLib library which is maintained at Carnegie Mellon University.\n",
        "\n",
        "The Boston house-price data of Harrison, D. and Rubinfeld, D.L. 'Hedonic\n",
        "prices and the demand for clean air', J. Environ. Economics & Management,\n",
        "vol.5, 81-102, 1978.   Used in Belsley, Kuh & Welsch, 'Regression diagnostics\n",
        "...', Wiley, 1980.   N.B. Various transformations are used in the table on\n",
        "pages 244-261 of the latter.\n",
        "\n",
        "The Boston house-price data has been used in many machine learning papers that address regression\n",
        "problems.   \n",
        "     \n",
        "**References**\n",
        "\n",
        "   - Belsley, Kuh & Welsch, 'Regression diagnostics: Identifying Influential Data and Sources of Collinearity', Wiley, 1980. 244-261.\n",
        "   - Quinlan,R. (1993). Combining Instance-Based and Model-Based Learning. In Proceedings on the Tenth International Conference of Machine Learning, 236-243, University of Massachusetts, Amherst. Morgan Kaufmann.\n",
        "   - many more! (see http://archive.ics.uci.edu/ml/datasets/Housing)\n",
        "\n"
       ]
      }
     ],
     "prompt_number": 2
    },
    {
     "cell_type": "code",
     "collapsed": false,
     "input": [
      "import numpy as np\n",
      "import matplotlib.pyplot as plt\n",
      "\n",
      "from sklearn import ensemble\n",
      "from sklearn import datasets\n",
      "from sklearn.utils import shuffle\n",
      "from sklearn.metrics import mean_squared_error"
     ],
     "language": "python",
     "metadata": {},
     "outputs": [],
     "prompt_number": 3
    },
    {
     "cell_type": "code",
     "collapsed": false,
     "input": [
      "def load_boston():\n",
      "    scaler = StandardScaler()\n",
      "    boston = datasets.load_boston()\n",
      "    X=boston.data\n",
      "    y=boston.target\n",
      "    X = scaler.fit_transform(X)\n",
      "    return train_test_split(X,y)"
     ],
     "language": "python",
     "metadata": {},
     "outputs": [],
     "prompt_number": 4
    },
    {
     "cell_type": "code",
     "collapsed": false,
     "input": [
      "X_train, X_test, y_train, y_test = load_boston()"
     ],
     "language": "python",
     "metadata": {},
     "outputs": [],
     "prompt_number": 5
    },
    {
     "cell_type": "code",
     "collapsed": false,
     "input": [
      "X_train.shape"
     ],
     "language": "python",
     "metadata": {},
     "outputs": [
      {
       "metadata": {},
       "output_type": "pyout",
       "prompt_number": 6,
       "text": [
        "(379, 13)"
       ]
      }
     ],
     "prompt_number": 6
    },
    {
     "cell_type": "code",
     "collapsed": false,
     "input": [
      "clf = LinearRegression()\n",
      "clf.fit(X_train, y_train)"
     ],
     "language": "python",
     "metadata": {},
     "outputs": [
      {
       "metadata": {},
       "output_type": "pyout",
       "prompt_number": 7,
       "text": [
        "LinearRegression(copy_X=True, fit_intercept=True, normalize=False)"
       ]
      }
     ],
     "prompt_number": 7
    },
    {
     "cell_type": "code",
     "collapsed": false,
     "input": [
      "zip (y_test, clf.predict(X_test))"
     ],
     "language": "python",
     "metadata": {},
     "outputs": [
      {
       "metadata": {},
       "output_type": "pyout",
       "prompt_number": 8,
       "text": [
        "[(16.0, 18.005683972332719),\n",
        " (20.100000000000001, 14.55949322452628),\n",
        " (17.399999999999999, 22.083278033638035),\n",
        " (21.800000000000001, 20.155821849994481),\n",
        " (50.0, 40.4379330860735),\n",
        " (24.399999999999999, 24.417268856727748),\n",
        " (7.4000000000000004, 5.6846331830309218),\n",
        " (31.100000000000001, 32.722329600181695),\n",
        " (22.800000000000001, 27.712665652243537),\n",
        " (21.100000000000001, 21.080032800538568),\n",
        " (35.100000000000001, 35.549986879291431),\n",
        " (15.6, 21.894318988812465),\n",
        " (17.800000000000001, 19.117978774015256),\n",
        " (8.3000000000000007, 10.686392852956779),\n",
        " (22.899999999999999, 20.65083055703359),\n",
        " (19.800000000000001, 22.022492844959096),\n",
        " (50.0, 36.811747924852916),\n",
        " (24.399999999999999, 24.750435266122224),\n",
        " (18.300000000000001, 18.703339435177973),\n",
        " (18.600000000000001, 20.018441302356514),\n",
        " (48.5, 42.346471148002593),\n",
        " (20.800000000000001, 23.151588636854797),\n",
        " (15.6, 12.933084027634036),\n",
        " (12.699999999999999, 12.845508470381334),\n",
        " (26.600000000000001, 27.824037601706035),\n",
        " (5.0, 7.0239354762878055),\n",
        " (23.5, 29.859430416791295),\n",
        " (21.699999999999999, 24.623172876428857),\n",
        " (26.199999999999999, 24.883968235162705),\n",
        " (36.0, 36.24796577674703),\n",
        " (21.699999999999999, 21.867240769017794),\n",
        " (23.899999999999999, 25.217911996871699),\n",
        " (8.6999999999999993, 10.090072528339572),\n",
        " (50.0, 22.447772906232927),\n",
        " (19.399999999999999, 19.335907778062097),\n",
        " (41.299999999999997, 32.079842129689283),\n",
        " (24.0, 25.015544670857309),\n",
        " (13.300000000000001, 13.574019612188259),\n",
        " (11.800000000000001, 13.880911412139199),\n",
        " (24.800000000000001, 30.575369123235731),\n",
        " (15.0, 24.615605577462254),\n",
        " (10.9, 14.762503678141222),\n",
        " (20.5, 19.468794925734752),\n",
        " (11.699999999999999, 14.318004718870174),\n",
        " (16.199999999999999, 14.331251315352244),\n",
        " (25.300000000000001, 26.04111272920531),\n",
        " (15.300000000000001, 19.562725245007506),\n",
        " (23.600000000000001, 30.209476282790362),\n",
        " (21.699999999999999, 22.763454309671978),\n",
        " (14.9, 16.660079020968801),\n",
        " (20.600000000000001, 26.222893971008329),\n",
        " (17.199999999999999, 12.979845982085624),\n",
        " (32.700000000000003, 30.993476680769284),\n",
        " (20.199999999999999, 16.50421873001487),\n",
        " (22.0, 27.928804326248226),\n",
        " (22.899999999999999, 28.500132507849852),\n",
        " (14.300000000000001, 16.934144760354513),\n",
        " (21.899999999999999, 23.809113501808003),\n",
        " (33.100000000000001, 33.198871124498623),\n",
        " (50.0, 32.315525897207209),\n",
        " (27.899999999999999, 17.564796275580839),\n",
        " (18.899999999999999, 15.06969849333918),\n",
        " (17.699999999999999, 18.889156497087303),\n",
        " (25.0, 23.288312990316516),\n",
        " (16.5, 12.889463747473345),\n",
        " (10.5, 12.292241029929126),\n",
        " (14.4, 4.6602887802449011),\n",
        " (21.399999999999999, 22.240260999724491),\n",
        " (19.600000000000001, 20.935584078337712),\n",
        " (30.800000000000001, 31.102461330090346),\n",
        " (27.5, 9.6300452100435905),\n",
        " (20.699999999999999, 22.096898846460363),\n",
        " (35.200000000000003, 36.817509892125578),\n",
        " (29.100000000000001, 30.305627294013611),\n",
        " (18.199999999999999, 18.759348875422923),\n",
        " (11.0, 14.766283005131465),\n",
        " (20.5, 20.632039838042257),\n",
        " (23.399999999999999, 24.597988962030399),\n",
        " (17.100000000000001, 18.788642570768467),\n",
        " (9.5999999999999996, 15.056660315043217),\n",
        " (23.899999999999999, 26.434561328326502),\n",
        " (20.399999999999999, 22.606110328935575),\n",
        " (41.700000000000003, 38.404741067312571),\n",
        " (17.199999999999999, 15.461144516739228),\n",
        " (22.199999999999999, 24.462057021466599),\n",
        " (8.8000000000000007, 2.8535116470949049),\n",
        " (20.0, 17.160774588601029),\n",
        " (50.0, 19.301208415240726),\n",
        " (19.399999999999999, 23.747816389991275),\n",
        " (13.1, 14.062304503992397),\n",
        " (21.600000000000001, 24.878407248377012),\n",
        " (18.699999999999999, 20.222606343752467),\n",
        " (25.0, 20.733993385998392),\n",
        " (19.600000000000001, 20.823135738666075),\n",
        " (12.800000000000001, 12.174411325246785),\n",
        " (27.0, 31.676220700217257),\n",
        " (21.399999999999999, 24.559438170285794),\n",
        " (24.5, 20.780702110015852),\n",
        " (14.5, 13.852491362053188),\n",
        " (15.699999999999999, 15.55113924445895),\n",
        " (23.800000000000001, 25.04151076759069),\n",
        " (11.300000000000001, 12.283483741185073),\n",
        " (29.0, 32.054651016126087),\n",
        " (13.9, 17.824098518102829),\n",
        " (24.800000000000001, 27.614847018471476),\n",
        " (20.0, 17.420995697732767),\n",
        " (22.800000000000001, 25.994388231771424),\n",
        " (19.0, 14.186234735324694),\n",
        " (34.899999999999999, 30.155539916692142),\n",
        " (17.800000000000001, 16.092983736308188),\n",
        " (19.399999999999999, 17.39714276324689),\n",
        " (20.399999999999999, 19.116234607098658),\n",
        " (22.699999999999999, 21.051848852187323),\n",
        " (17.800000000000001, 17.938148866664214),\n",
        " (14.4, 10.573451196346088),\n",
        " (28.5, 32.941602466639822),\n",
        " (23.199999999999999, 16.386540441469371),\n",
        " (19.300000000000001, 21.476798411696926),\n",
        " (18.600000000000001, 17.124806938169385),\n",
        " (22.0, 21.943446458415963),\n",
        " (30.5, 30.225680519983975),\n",
        " (21.0, 21.61067010142429),\n",
        " (13.4, 14.354898261818459),\n",
        " (22.199999999999999, 22.558079635473302),\n",
        " (23.399999999999999, 24.808761565747421),\n",
        " (27.5, 24.047559112365295),\n",
        " (12.300000000000001, 11.98656935744159)]"
       ]
      }
     ],
     "prompt_number": 8
    },
    {
     "cell_type": "markdown",
     "metadata": {},
     "source": [
      "###model 1 MSE and R2 below."
     ]
    },
    {
     "cell_type": "code",
     "collapsed": false,
     "input": [
      "mean_squared_error(y_test, clf.predict(X_test))"
     ],
     "language": "python",
     "metadata": {},
     "outputs": [
      {
       "metadata": {},
       "output_type": "pyout",
       "prompt_number": 9,
       "text": [
        "31.414784156985093"
       ]
      }
     ],
     "prompt_number": 9
    },
    {
     "cell_type": "code",
     "collapsed": false,
     "input": [
      "r2_score(y_test, clf.predict(X_test))"
     ],
     "language": "python",
     "metadata": {},
     "outputs": [
      {
       "metadata": {},
       "output_type": "pyout",
       "prompt_number": 10,
       "text": [
        "0.61358212618188679"
       ]
      }
     ],
     "prompt_number": 10
    },
    {
     "cell_type": "markdown",
     "metadata": {},
     "source": [
      "###model 2 MSE and R2 below.\n",
      "\n",
      "clf = LinearRegression()\n",
      "clf.fit(X_train, y_train)"
     ]
    },
    {
     "cell_type": "code",
     "collapsed": false,
     "input": [
      "from sklearn.linear_model import Lasso\n",
      "\n",
      "alpha = 0.1\n",
      "lasso = Lasso(alpha=alpha)\n",
      "\n",
      "y_pred_lasso = lasso.fit(X_train, y_train).predict(X_test)\n",
      "r2_score_lasso = r2_score(y_test, y_pred_lasso)\n",
      "mean_squared_error_lasso = mean_squared_error(y_test,y_pred_lasso)\n",
      "print(lasso)\n",
      "print (\"RMSE on test data: %f\" % mean_squared_error_lasso)\n",
      "print(\"r^2 on test data : %f\" % r2_score_lasso)"
     ],
     "language": "python",
     "metadata": {},
     "outputs": [
      {
       "output_type": "stream",
       "stream": "stdout",
       "text": [
        "Lasso(alpha=0.1, copy_X=True, fit_intercept=True, max_iter=1000,\n",
        "   normalize=False, positive=False, precompute='auto', tol=0.0001,\n",
        "   warm_start=False)\n",
        "RMSE on test data: 32.855310\n",
        "r^2 on test data : 0.595863\n"
       ]
      }
     ],
     "prompt_number": 11
    },
    {
     "cell_type": "code",
     "collapsed": false,
     "input": [
      "from sklearn import linear_model\n",
      "from sklearn.linear_model import Lasso\n",
      "clfA = linear_model.Lasso(alpha=0.1)\n",
      "clfA.fit(X_train, y_train)"
     ],
     "language": "python",
     "metadata": {},
     "outputs": [
      {
       "metadata": {},
       "output_type": "pyout",
       "prompt_number": 12,
       "text": [
        "Lasso(alpha=0.1, copy_X=True, fit_intercept=True, max_iter=1000,\n",
        "   normalize=False, positive=False, precompute='auto', tol=0.0001,\n",
        "   warm_start=False)"
       ]
      }
     ],
     "prompt_number": 12
    },
    {
     "cell_type": "code",
     "collapsed": false,
     "input": [
      "mean_squared_error(y_test, clfA.predict(X_test))"
     ],
     "language": "python",
     "metadata": {},
     "outputs": [
      {
       "metadata": {},
       "output_type": "pyout",
       "prompt_number": 13,
       "text": [
        "32.855309811090351"
       ]
      }
     ],
     "prompt_number": 13
    },
    {
     "cell_type": "code",
     "collapsed": false,
     "input": [
      "r2_score(y_test, clfA.predict(X_test))"
     ],
     "language": "python",
     "metadata": {},
     "outputs": [
      {
       "metadata": {},
       "output_type": "pyout",
       "prompt_number": 14,
       "text": [
        "0.59586292564057008"
       ]
      }
     ],
     "prompt_number": 14
    },
    {
     "cell_type": "code",
     "collapsed": false,
     "input": [
      "from sklearn.linear_model import Lasso\n",
      "clfB = linear_model.Lasso(alpha=10.0)\n",
      "clfB.fit(X_train, y_train)"
     ],
     "language": "python",
     "metadata": {},
     "outputs": [
      {
       "metadata": {},
       "output_type": "pyout",
       "prompt_number": 15,
       "text": [
        "Lasso(alpha=10.0, copy_X=True, fit_intercept=True, max_iter=1000,\n",
        "   normalize=False, positive=False, precompute='auto', tol=0.0001,\n",
        "   warm_start=False)"
       ]
      }
     ],
     "prompt_number": 15
    },
    {
     "cell_type": "code",
     "collapsed": false,
     "input": [
      "mean_squared_error(y_test, clfB.predict(X_test))"
     ],
     "language": "python",
     "metadata": {},
     "outputs": [
      {
       "metadata": {},
       "output_type": "pyout",
       "prompt_number": 16,
       "text": [
        "81.791559114978639"
       ]
      }
     ],
     "prompt_number": 16
    },
    {
     "cell_type": "code",
     "collapsed": false,
     "input": [
      "r2_score(y_test, clfB.predict(X_test))"
     ],
     "language": "python",
     "metadata": {},
     "outputs": [
      {
       "metadata": {},
       "output_type": "pyout",
       "prompt_number": 17,
       "text": [
        "-0.0060779094180412052"
       ]
      }
     ],
     "prompt_number": 17
    },
    {
     "cell_type": "code",
     "collapsed": false,
     "input": [
      "from sklearn.linear_model import Lasso\n",
      "clfC = linear_model.Lasso(alpha=5)\n",
      "clfC.fit(X_train, y_train)"
     ],
     "language": "python",
     "metadata": {},
     "outputs": [
      {
       "metadata": {},
       "output_type": "pyout",
       "prompt_number": 18,
       "text": [
        "Lasso(alpha=5, copy_X=True, fit_intercept=True, max_iter=1000,\n",
        "   normalize=False, positive=False, precompute='auto', tol=0.0001,\n",
        "   warm_start=False)"
       ]
      }
     ],
     "prompt_number": 18
    },
    {
     "cell_type": "code",
     "collapsed": false,
     "input": [
      "mean_squared_error(y_test, clfC.predict(X_test))"
     ],
     "language": "python",
     "metadata": {},
     "outputs": [
      {
       "metadata": {},
       "output_type": "pyout",
       "prompt_number": 21,
       "text": [
        "59.425150636447185"
       ]
      }
     ],
     "prompt_number": 21
    },
    {
     "cell_type": "code",
     "collapsed": false,
     "input": [
      "r2_score(y_test, clfC.predict(X_test))"
     ],
     "language": "python",
     "metadata": {},
     "outputs": [
      {
       "metadata": {},
       "output_type": "pyout",
       "prompt_number": 22,
       "text": [
        "0.26904032682487178"
       ]
      }
     ],
     "prompt_number": 22
    },
    {
     "cell_type": "code",
     "collapsed": false,
     "input": [
      "from sklearn.linear_model import Lasso\n",
      "clfD = linear_model.Lasso(alpha=8.0)\n",
      "clfD.fit(X_train, y_train)"
     ],
     "language": "python",
     "metadata": {},
     "outputs": [
      {
       "metadata": {},
       "output_type": "pyout",
       "prompt_number": 23,
       "text": [
        "Lasso(alpha=8.0, copy_X=True, fit_intercept=True, max_iter=1000,\n",
        "   normalize=False, positive=False, precompute='auto', tol=0.0001,\n",
        "   warm_start=False)"
       ]
      }
     ],
     "prompt_number": 23
    },
    {
     "cell_type": "code",
     "collapsed": false,
     "input": [
      "mean_squared_error(y_test, clfD.predict(X_test))"
     ],
     "language": "python",
     "metadata": {},
     "outputs": [
      {
       "metadata": {},
       "output_type": "pyout",
       "prompt_number": 24,
       "text": [
        "81.791559114978639"
       ]
      }
     ],
     "prompt_number": 24
    },
    {
     "cell_type": "code",
     "collapsed": false,
     "input": [
      "r2_score(y_test, clfD.predict(X_test))"
     ],
     "language": "python",
     "metadata": {},
     "outputs": [
      {
       "metadata": {},
       "output_type": "pyout",
       "prompt_number": 25,
       "text": [
        "-0.0060779094180412052"
       ]
      }
     ],
     "prompt_number": 25
    },
    {
     "cell_type": "code",
     "collapsed": false,
     "input": [
      "from sklearn.linear_model import Lasso\n",
      "clfE = linear_model.Lasso(alpha=3.0)\n",
      "clfE.fit(X_train, y_train)"
     ],
     "language": "python",
     "metadata": {},
     "outputs": [
      {
       "metadata": {},
       "output_type": "pyout",
       "prompt_number": 26,
       "text": [
        "Lasso(alpha=3.0, copy_X=True, fit_intercept=True, max_iter=1000,\n",
        "   normalize=False, positive=False, precompute='auto', tol=0.0001,\n",
        "   warm_start=False)"
       ]
      }
     ],
     "prompt_number": 26
    },
    {
     "cell_type": "code",
     "collapsed": false,
     "input": [
      "mean_squared_error(y_test, clfE.predict(X_test))"
     ],
     "language": "python",
     "metadata": {},
     "outputs": [
      {
       "metadata": {},
       "output_type": "pyout",
       "prompt_number": 27,
       "text": [
        "43.249742035918622"
       ]
      }
     ],
     "prompt_number": 27
    },
    {
     "cell_type": "code",
     "collapsed": false,
     "input": [
      "r2_score(y_test, clfE.predict(X_test))"
     ],
     "language": "python",
     "metadata": {},
     "outputs": [
      {
       "metadata": {},
       "output_type": "pyout",
       "prompt_number": 28,
       "text": [
        "0.46800610574987755"
       ]
      }
     ],
     "prompt_number": 28
    },
    {
     "cell_type": "code",
     "collapsed": false,
     "input": [
      "from sklearn.linear_model import Lasso\n",
      "clfF = linear_model.Lasso(alpha=0.01)\n",
      "clfF.fit(X_train, y_train)"
     ],
     "language": "python",
     "metadata": {},
     "outputs": [
      {
       "metadata": {},
       "output_type": "pyout",
       "prompt_number": 29,
       "text": [
        "Lasso(alpha=0.01, copy_X=True, fit_intercept=True, max_iter=1000,\n",
        "   normalize=False, positive=False, precompute='auto', tol=0.0001,\n",
        "   warm_start=False)"
       ]
      }
     ],
     "prompt_number": 29
    },
    {
     "cell_type": "code",
     "collapsed": false,
     "input": [
      "mean_squared_error(y_test, clfF.predict(X_test))"
     ],
     "language": "python",
     "metadata": {},
     "outputs": [
      {
       "metadata": {},
       "output_type": "pyout",
       "prompt_number": 31,
       "text": [
        "31.513606219624627"
       ]
      }
     ],
     "prompt_number": 31
    },
    {
     "cell_type": "code",
     "collapsed": false,
     "input": [
      "r2_score(y_test, clfF.predict(X_test))"
     ],
     "language": "python",
     "metadata": {},
     "outputs": [
      {
       "metadata": {},
       "output_type": "pyout",
       "prompt_number": 32,
       "text": [
        "0.61236656438968518"
       ]
      }
     ],
     "prompt_number": 32
    },
    {
     "cell_type": "code",
     "collapsed": false,
     "input": [
      "clfG = linear_model.Lasso(alpha=0.05)\n",
      "clfG.fit(X_train, y_train)"
     ],
     "language": "python",
     "metadata": {},
     "outputs": [
      {
       "metadata": {},
       "output_type": "pyout",
       "prompt_number": 33,
       "text": [
        "Lasso(alpha=0.05, copy_X=True, fit_intercept=True, max_iter=1000,\n",
        "   normalize=False, positive=False, precompute='auto', tol=0.0001,\n",
        "   warm_start=False)"
       ]
      }
     ],
     "prompt_number": 33
    },
    {
     "cell_type": "code",
     "collapsed": false,
     "input": [
      "mean_squared_error(y_test, clfG.predict(X_test))"
     ],
     "language": "python",
     "metadata": {},
     "outputs": [
      {
       "metadata": {},
       "output_type": "pyout",
       "prompt_number": 34,
       "text": [
        "31.983581178172589"
       ]
      }
     ],
     "prompt_number": 34
    },
    {
     "cell_type": "code",
     "collapsed": false,
     "input": [
      "r2_score(y_test, clfG.predict(X_test))"
     ],
     "language": "python",
     "metadata": {},
     "outputs": [
      {
       "metadata": {},
       "output_type": "pyout",
       "prompt_number": 35,
       "text": [
        "0.606585632605391"
       ]
      }
     ],
     "prompt_number": 35
    },
    {
     "cell_type": "code",
     "collapsed": false,
     "input": [],
     "language": "python",
     "metadata": {},
     "outputs": []
    }
   ],
   "metadata": {}
  }
 ]
}